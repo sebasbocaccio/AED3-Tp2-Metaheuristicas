{
 "cells": [
  {
   "cell_type": "code",
   "execution_count": 1,
   "metadata": {},
   "outputs": [],
   "source": [
    "\n",
    "import math, subprocess\n",
    "import pandas as pd\n",
    "import numpy as np\n",
    "from IPython.display import display, clear_output\n",
    "import seaborn as sns"
   ]
  },
  {
   "cell_type": "code",
   "execution_count": 2,
   "metadata": {},
   "outputs": [
    {
     "name": "stdout",
     "output_type": "stream",
     "text": [
      "rm -rf *.o\r\n",
      "rm main\r\n",
      "g++ -o main main.cpp solucion.cpp -O2 -std=c++14\r\n"
     ]
    }
   ],
   "source": [
    "!make clean && make all"
   ]
  },
  {
   "cell_type": "code",
   "execution_count": 3,
   "metadata": {},
   "outputs": [],
   "source": [
    "def leer_instancia(path_instancia):\n",
    "    with open(path_instancia, \"r\") as f:\n",
    "        return f.read();"
   ]
  },
  {
   "cell_type": "code",
   "execution_count": 4,
   "metadata": {},
   "outputs": [],
   "source": [
    "def save_instance(dataset, instance_name, N, impacto, tiempo):\n",
    "    with open(F\"resultados/{dataset}/{instance_name}.txt\", \"w\") as f:\n",
    "        lista = [N,impacto,tiempo]\n",
    "        for i in range(len(lista)):\n",
    "            print(lista[i], file=f, sep=' ', end =' ')"
   ]
  },
  {
   "cell_type": "code",
   "execution_count": 5,
   "metadata": {},
   "outputs": [],
   "source": [
    "save_instance(\"Experimento1\", \"a\", 1,0,1);\n",
    "save_instance(\"Experimento1\", \"a\", 2,0,1);"
   ]
  },
  {
   "cell_type": "code",
   "execution_count": 6,
   "metadata": {},
   "outputs": [],
   "source": [
    "CANT_REPETIONES_EXPERIMENTOS = 20"
   ]
  },
  {
   "cell_type": "code",
   "execution_count": 7,
   "metadata": {},
   "outputs": [],
   "source": [
    "def correr_experimento(metodo, archivo_instancia, cantNodos):\n",
    "    \n",
    "    # Leer archivo de la instancia.\n",
    "    instancia = leer_instancia(archivo_instancia)\n",
    "    \n",
    "    \n",
    "    # Crear proceso para ejecutar el codigo.\n",
    "    process = subprocess.Popen([\"./main\", metodo], stderr=subprocess.PIPE, stdout=subprocess.PIPE, stdin=subprocess.PIPE, universal_newlines = True)\n",
    "    \n",
    "    \n",
    "    # Poner la instancia en la entrada estandar.\n",
    "    process.stdin.write(instancia)\n",
    "    process.stdin.write(\"\\n\")\n",
    "    process.stdin.flush()\n",
    "   \n",
    "    #print(instancia)\n",
    "    \n",
    "    # Correr experimento.\n",
    "    exit_code = process.wait()\n",
    "\n",
    "    # Verificar que el proceso no fallo.\n",
    "    if exit_code != 0: raise ValueError(F\"Hubo un error en la experimentacion para el algoritmo: {metodo} con la instancia {archivo_instancia}.\")\n",
    "    # Leer salida de STDERR con los tiempos de ejecucion de cada metodo.\n",
    "    resultados = []\n",
    "    tiempo = float(process.stderr.read())\n",
    "    resultados.append(tiempo)\n",
    "    \n",
    "    resultado = process.stdout.read();    \n",
    "    resultado = resultado.split()\n",
    "    resultado = map(int, resultado)\n",
    "    resultado = list(resultado)\n",
    "  \n",
    "    resultados += resultado \n",
    "    \n",
    "    \n",
    "    process.stdin.close();\n",
    "    process.stdout.close();\n",
    "    process.stderr.close();\n",
    "    \n",
    "    return resultados;"
   ]
  },
  {
   "cell_type": "code",
   "execution_count": 8,
   "metadata": {},
   "outputs": [],
   "source": [
    "archivos= []\n",
    "run = []\n",
    "for i in range(31):\n",
    "    if ( (i > 5) & (i % 2 == 0)):\n",
    "        archivos.append(f\"instancias/CMI_n{i}.in\")\n",
    "        run.append(i)\n",
    "            "
   ]
  },
  {
   "cell_type": "code",
   "execution_count": 9,
   "metadata": {
    "scrolled": false
   },
   "outputs": [
    {
     "ename": "ValueError",
     "evalue": "could not convert string to float: 'Algoritmo no encontrado: M2\\nLos algoritmos existentes son: \\n\\t- H1: Heuristica 1 \\n\\t- H2: Heuristica 2\\n\\t- M1C: Metaheuristica colores change\\n\\t- M1S: Metaheuristica colores swap \\n\\t- M1SC: Metaheuristica colores swap_y_change\\n\\t- M1SCH2: Metaheuristica colores swap_y_change con su segunda Heuristica\\n\\t- M21: Metaheuristica por vertices con heuristica_1\\n\\t- M22: Metaheuristica por vertices con heuristica_2\\n'",
     "output_type": "error",
     "traceback": [
      "\u001b[0;31m---------------------------------------------------------------------------\u001b[0m",
      "\u001b[0;31mValueError\u001b[0m                                Traceback (most recent call last)",
      "\u001b[0;32m<ipython-input-9-d0e9317ecaf9>\u001b[0m in \u001b[0;36m<module>\u001b[0;34m\u001b[0m\n\u001b[1;32m      1\u001b[0m \u001b[0;32mfor\u001b[0m \u001b[0mi\u001b[0m \u001b[0;32min\u001b[0m \u001b[0mrange\u001b[0m\u001b[0;34m(\u001b[0m\u001b[0mlen\u001b[0m\u001b[0;34m(\u001b[0m\u001b[0marchivos\u001b[0m\u001b[0;34m)\u001b[0m\u001b[0;34m)\u001b[0m\u001b[0;34m:\u001b[0m\u001b[0;34m\u001b[0m\u001b[0;34m\u001b[0m\u001b[0m\n\u001b[0;32m----> 2\u001b[0;31m     \u001b[0mprint\u001b[0m\u001b[0;34m(\u001b[0m\u001b[0mcorrer_experimento\u001b[0m\u001b[0;34m(\u001b[0m\u001b[0;34m\"M2\"\u001b[0m\u001b[0;34m,\u001b[0m \u001b[0marchivos\u001b[0m\u001b[0;34m[\u001b[0m\u001b[0mi\u001b[0m\u001b[0;34m]\u001b[0m\u001b[0;34m,\u001b[0m\u001b[0mrun\u001b[0m\u001b[0;34m[\u001b[0m\u001b[0mi\u001b[0m\u001b[0;34m]\u001b[0m\u001b[0;34m)\u001b[0m\u001b[0;34m)\u001b[0m\u001b[0;34m\u001b[0m\u001b[0;34m\u001b[0m\u001b[0m\n\u001b[0m",
      "\u001b[0;32m<ipython-input-7-73d29330af33>\u001b[0m in \u001b[0;36mcorrer_experimento\u001b[0;34m(metodo, archivo_instancia, cantNodos)\u001b[0m\n\u001b[1;32m     23\u001b[0m     \u001b[0;31m# Leer salida de STDERR con los tiempos de ejecucion de cada metodo.\u001b[0m\u001b[0;34m\u001b[0m\u001b[0;34m\u001b[0m\u001b[0;34m\u001b[0m\u001b[0m\n\u001b[1;32m     24\u001b[0m     \u001b[0mresultados\u001b[0m \u001b[0;34m=\u001b[0m \u001b[0;34m[\u001b[0m\u001b[0;34m]\u001b[0m\u001b[0;34m\u001b[0m\u001b[0;34m\u001b[0m\u001b[0m\n\u001b[0;32m---> 25\u001b[0;31m     \u001b[0mtiempo\u001b[0m \u001b[0;34m=\u001b[0m \u001b[0mfloat\u001b[0m\u001b[0;34m(\u001b[0m\u001b[0mprocess\u001b[0m\u001b[0;34m.\u001b[0m\u001b[0mstderr\u001b[0m\u001b[0;34m.\u001b[0m\u001b[0mread\u001b[0m\u001b[0;34m(\u001b[0m\u001b[0;34m)\u001b[0m\u001b[0;34m)\u001b[0m\u001b[0;34m\u001b[0m\u001b[0;34m\u001b[0m\u001b[0m\n\u001b[0m\u001b[1;32m     26\u001b[0m     \u001b[0mresultados\u001b[0m\u001b[0;34m.\u001b[0m\u001b[0mappend\u001b[0m\u001b[0;34m(\u001b[0m\u001b[0mtiempo\u001b[0m\u001b[0;34m)\u001b[0m\u001b[0;34m\u001b[0m\u001b[0;34m\u001b[0m\u001b[0m\n\u001b[1;32m     27\u001b[0m \u001b[0;34m\u001b[0m\u001b[0m\n",
      "\u001b[0;31mValueError\u001b[0m: could not convert string to float: 'Algoritmo no encontrado: M2\\nLos algoritmos existentes son: \\n\\t- H1: Heuristica 1 \\n\\t- H2: Heuristica 2\\n\\t- M1C: Metaheuristica colores change\\n\\t- M1S: Metaheuristica colores swap \\n\\t- M1SC: Metaheuristica colores swap_y_change\\n\\t- M1SCH2: Metaheuristica colores swap_y_change con su segunda Heuristica\\n\\t- M21: Metaheuristica por vertices con heuristica_1\\n\\t- M22: Metaheuristica por vertices con heuristica_2\\n'"
     ]
    }
   ],
   "source": [
    "\n",
    "for i in range(len(archivos)):\n",
    "    print(correr_experimento(\"M2\", archivos[i],run[i]))"
   ]
  },
  {
   "cell_type": "markdown",
   "metadata": {},
   "source": [
    "# parametros"
   ]
  },
  {
   "cell_type": "code",
   "execution_count": 17,
   "metadata": {},
   "outputs": [],
   "source": [
    "parametros = [\"N\", \"Impacto\", \"Tiempo\"]\n"
   ]
  },
  {
   "cell_type": "markdown",
   "metadata": {},
   "source": [
    "# Experimento 1: Comparacion de heuristicas \n"
   ]
  },
  {
   "cell_type": "markdown",
   "metadata": {},
   "source": [
    "## Heuristica 1"
   ]
  },
  {
   "cell_type": "code",
   "execution_count": 11,
   "metadata": {},
   "outputs": [],
   "source": [
    "\n",
    "parametros = [\"N\", \"Impacto\", \"Tiempo\"]\n",
    "filas = []\n",
    "for i in range((len(archivos))): \n",
    "    promedio = 0\n",
    "    for j in range(CANT_REPETIONES_EXPERIMENTOS):\n",
    "        prueba_resultados = correr_experimento(\"H1\", archivos[i],run[i])\n",
    "        lista = [(len(prueba_resultados) -2),prueba_resultados[1], prueba_resultados[0]]\n",
    "        promedio+= lista[2]\n",
    "        \n",
    "    lista[2] = promedio/CANT_REPETIONES_EXPERIMENTOS\n",
    "    filas.append(lista)\n",
    "    pd.DataFrame(filas, columns=parametros).to_csv(\"resultados/Experimento1/h1.csv\", index=False, header=True)           \n",
    "    \n"
   ]
  },
  {
   "cell_type": "markdown",
   "metadata": {},
   "source": [
    "## Heuristica 2"
   ]
  },
  {
   "cell_type": "code",
   "execution_count": 12,
   "metadata": {},
   "outputs": [],
   "source": [
    "\n",
    "filas = []\n",
    "for i in range((len(archivos))): \n",
    "    promedio = 0\n",
    "    for j in range(CANT_REPETIONES_EXPERIMENTOS):\n",
    "        prueba_resultados = correr_experimento(\"H2\", archivos[i],run[i])\n",
    "        lista = [(len(prueba_resultados) -2),prueba_resultados[1], prueba_resultados[0]]\n",
    "        promedio+= lista[2]\n",
    "        \n",
    "    lista[2] = promedio/CANT_REPETIONES_EXPERIMENTOS\n",
    "    filas.append(lista)\n",
    "    pd.DataFrame(filas, columns=parametros).to_csv(\"resultados/Experimento1/h2.csv\", index=False, header=True)           \n",
    "    \n"
   ]
  },
  {
   "cell_type": "markdown",
   "metadata": {},
   "source": [
    "## Aca se crea el csv de los resultados de la catedra"
   ]
  },
  {
   "cell_type": "code",
   "execution_count": 13,
   "metadata": {},
   "outputs": [
    {
     "name": "stdout",
     "output_type": "stream",
     "text": [
      "1 \n",
      "6 \n",
      "3 \n",
      "16\n",
      "12\n",
      "20\n",
      "27\n",
      "25\n",
      "26\n",
      "33\n",
      "38\n",
      "48\n",
      "47\n"
     ]
    }
   ],
   "source": [
    "parametros_sin_tiempo = [\"N\", \"Impacto\"]\n",
    "archivos_catedra= []\n",
    "run = []\n",
    "filas = []\n",
    "for i in range(31):\n",
    "    if ( (i > 5) & (i % 2 == 0)):\n",
    "        with open(f\"instancias/CMI_n{i}.out\") as f:\n",
    "            c = f.read(2)\n",
    "            print(c)\n",
    "            lista = [i,c]\n",
    "            filas.append(lista)\n",
    "\n",
    "pd.DataFrame(filas, columns=parametros_sin_tiempo).to_csv(\"resultados/best_results.csv\", index=False, header=True)   "
   ]
  },
  {
   "cell_type": "markdown",
   "metadata": {},
   "source": [
    "# Experimento 3 "
   ]
  },
  {
   "cell_type": "markdown",
   "metadata": {},
   "source": [
    "## Metaheuristica M2"
   ]
  },
  {
   "cell_type": "markdown",
   "metadata": {},
   "source": [
    "### Corrido con H2"
   ]
  },
  {
   "cell_type": "code",
   "execution_count": 21,
   "metadata": {},
   "outputs": [
    {
     "data": {
      "text/plain": [
       "'Experimento: 260/260'"
      ]
     },
     "metadata": {},
     "output_type": "display_data"
    }
   ],
   "source": [
    "filas = []\n",
    "cant_experimentos = len(archivos)*CANT_REPETIONES_EXPERIMENTOS\n",
    "cant_terminados = 0\n",
    "barra= \"/\" \n",
    "for i in range((len(archivos))): \n",
    "    promedio = 0\n",
    "    promedio_impacto=0 \n",
    "    \n",
    "    for j in range(CANT_REPETIONES_EXPERIMENTOS):\n",
    "        prueba_resultados = correr_experimento(\"M22\", archivos[i],run[i])\n",
    "        lista = [(len(prueba_resultados) -2),prueba_resultados[1], prueba_resultados[0]]\n",
    "        promedio+= lista[2]\n",
    "        promedio_impacto+= lista[1]\n",
    "        cant_terminados+=1\n",
    "        clear_output(wait=True)\n",
    "        display('Experimento: ' + str(cant_terminados) + \"/\" + str(cant_experimentos))\n",
    "    \n",
    "    lista[2] = promedio/CANT_REPETIONES_EXPERIMENTOS\n",
    "    lista[1] = promedio_impacto/CANT_REPETIONES_EXPERIMENTOS\n",
    "    filas.append(lista)\n",
    "    pd.DataFrame(filas, columns=parametros).to_csv(\"resultados/Experimento3/M2H2.csv\", index=False, header=True)           \n"
   ]
  },
  {
   "cell_type": "markdown",
   "metadata": {},
   "source": [
    "### Corrido con H1"
   ]
  },
  {
   "cell_type": "markdown",
   "metadata": {},
   "source": []
  },
  {
   "cell_type": "code",
   "execution_count": 18,
   "metadata": {},
   "outputs": [
    {
     "data": {
      "text/plain": [
       "'Experimento: 260/260'"
      ]
     },
     "metadata": {},
     "output_type": "display_data"
    }
   ],
   "source": [
    "filas = []\n",
    "cant_experimentos = len(archivos)*CANT_REPETIONES_EXPERIMENTOS\n",
    "cant_terminados = 0\n",
    "barra= \"/\" \n",
    "for i in range((len(archivos))): \n",
    "    promedio = 0\n",
    "    promedio_impacto=0 \n",
    "    \n",
    "    for j in range(CANT_REPETIONES_EXPERIMENTOS):\n",
    "        prueba_resultados = correr_experimento(\"M21\", archivos[i],run[i])\n",
    "        lista = [(len(prueba_resultados) -2),prueba_resultados[1], prueba_resultados[0]]\n",
    "        promedio+= lista[2]\n",
    "        promedio_impacto+= lista[1]\n",
    "        cant_terminados+=1\n",
    "        clear_output(wait=True)\n",
    "        display('Experimento: ' + str(cant_terminados) + \"/\" + str(cant_experimentos))\n",
    "    \n",
    "    lista[2] = promedio/CANT_REPETIONES_EXPERIMENTOS\n",
    "    lista[1] = promedio_impacto/CANT_REPETIONES_EXPERIMENTOS\n",
    "    filas.append(lista)\n",
    "    pd.DataFrame(filas, columns=parametros).to_csv(\"resultados/Experimento3/M2H1.csv\", index=False, header=True)           \n"
   ]
  },
  {
   "cell_type": "markdown",
   "metadata": {},
   "source": [
    "## metaheuristica 1"
   ]
  },
  {
   "cell_type": "markdown",
   "metadata": {},
   "source": [
    "corrido con h1:"
   ]
  },
  {
   "cell_type": "code",
   "execution_count": 19,
   "metadata": {},
   "outputs": [
    {
     "data": {
      "text/plain": [
       "'Experimento: 260/260'"
      ]
     },
     "metadata": {},
     "output_type": "display_data"
    }
   ],
   "source": [
    "filas = []\n",
    "cant_experimentos = len(archivos)*CANT_REPETIONES_EXPERIMENTOS\n",
    "cant_terminados = 0\n",
    "barra= \"/\" \n",
    "for i in range((len(archivos))): \n",
    "    promedio = 0\n",
    "    promedio_impacto=0 \n",
    "    \n",
    "    for j in range(CANT_REPETIONES_EXPERIMENTOS):\n",
    "        prueba_resultados = correr_experimento(\"M1SC\", archivos[i],run[i])\n",
    "        lista = [(len(prueba_resultados) -2),prueba_resultados[1], prueba_resultados[0]]\n",
    "        promedio+= lista[2]\n",
    "        promedio_impacto+= lista[1]\n",
    "        cant_terminados+=1\n",
    "        clear_output(wait=True)\n",
    "        display('Experimento: ' + str(cant_terminados) + \"/\" + str(cant_experimentos))\n",
    "    \n",
    "    lista[2] = promedio/CANT_REPETIONES_EXPERIMENTOS\n",
    "    lista[1] = promedio_impacto/CANT_REPETIONES_EXPERIMENTOS\n",
    "    filas.append(lista)\n",
    "    pd.DataFrame(filas, columns=parametros).to_csv(\"resultados/Experimento3/M1H1.csv\", index=False, header=True)           \n"
   ]
  },
  {
   "cell_type": "markdown",
   "metadata": {},
   "source": [
    "## Heuristica 2"
   ]
  },
  {
   "cell_type": "code",
   "execution_count": 20,
   "metadata": {},
   "outputs": [
    {
     "data": {
      "text/plain": [
       "'Experimento: 260/260'"
      ]
     },
     "metadata": {},
     "output_type": "display_data"
    }
   ],
   "source": [
    "filas = []\n",
    "cant_experimentos = len(archivos)*CANT_REPETIONES_EXPERIMENTOS\n",
    "cant_terminados = 0\n",
    "barra= \"/\" \n",
    "for i in range((len(archivos))): \n",
    "    promedio = 0\n",
    "    promedio_impacto=0 \n",
    "    \n",
    "    for j in range(CANT_REPETIONES_EXPERIMENTOS):\n",
    "        prueba_resultados = correr_experimento(\"M1SCH2\", archivos[i],run[i])\n",
    "        lista = [(len(prueba_resultados) -2),prueba_resultados[1], prueba_resultados[0]]\n",
    "        promedio+= lista[2]\n",
    "        promedio_impacto+= lista[1]\n",
    "        cant_terminados+=1\n",
    "        clear_output(wait=True)\n",
    "        display('Experimento: ' + str(cant_terminados) + \"/\" + str(cant_experimentos))\n",
    "    \n",
    "    lista[2] = promedio/CANT_REPETIONES_EXPERIMENTOS\n",
    "    lista[1] = promedio_impacto/CANT_REPETIONES_EXPERIMENTOS\n",
    "    filas.append(lista)\n",
    "    pd.DataFrame(filas, columns=parametros).to_csv(\"resultados/Experimento3/M1H2.csv\", index=False, header=True)           \n"
   ]
  },
  {
   "cell_type": "markdown",
   "metadata": {},
   "source": [
    "# experimento 3, jugando con las metaheuristicas"
   ]
  },
  {
   "cell_type": "code",
   "execution_count": 10,
   "metadata": {},
   "outputs": [],
   "source": [
    "def correr_experimento(metodo, archivo_instancia, cantNodos, porcentajeVecindad, iteracionesSinSol):\n",
    "    \n",
    "    # Leer archivo de la instancia.\n",
    "    instancia = leer_instancia(archivo_instancia)\n",
    "    \n",
    "    \n",
    "    # Crear proceso para ejecutar el codigo.\n",
    "    process = subprocess.Popen([\"./main\", metodo, porcentajeVecindad, iteracionesSinSol], stderr=subprocess.PIPE, stdout=subprocess.PIPE, stdin=subprocess.PIPE, universal_newlines = True)\n",
    "    \n",
    "    \n",
    "    # Poner la instancia en la entrada estandar.\n",
    "    process.stdin.write(instancia)\n",
    "    process.stdin.write(\"\\n\")\n",
    "    process.stdin.flush()\n",
    "   \n",
    "    #print(instancia)\n",
    "    \n",
    "    # Correr experimento.\n",
    "    exit_code = process.wait()\n",
    "\n",
    "    # Verificar que el proceso no fallo.\n",
    "    if exit_code != 0: raise ValueError(F\"Hubo un error en la experimentacion para el algoritmo: {metodo} con la instancia {archivo_instancia}.\")\n",
    "    # Leer salida de STDERR con los tiempos de ejecucion de cada metodo.\n",
    "    resultados = []\n",
    "    tiempo = float(process.stderr.read())\n",
    "    resultados.append(tiempo)\n",
    "    \n",
    "    resultado = process.stdout.read();    \n",
    "    resultado = resultado.split()\n",
    "    resultado = map(int, resultado)\n",
    "    resultado = list(resultado)\n",
    "  \n",
    "    resultados += resultado \n",
    "    # print(resultados)\n",
    "    \n",
    "    process.stdin.close();\n",
    "    process.stdout.close();\n",
    "    process.stderr.close();\n",
    "    \n",
    "    return resultados;"
   ]
  },
  {
   "cell_type": "code",
   "execution_count": 8,
   "metadata": {},
   "outputs": [],
   "source": [
    "parametros = [\"N\", \"Impacto\", \"Tiempo\", \"porcentajeVecindad\", \"cantItSinMejoras\"]\n"
   ]
  },
  {
   "cell_type": "markdown",
   "metadata": {},
   "source": [
    "## Metaheuristica M2"
   ]
  },
  {
   "cell_type": "markdown",
   "metadata": {},
   "source": [
    "### Corrido con H2"
   ]
  },
  {
   "cell_type": "code",
   "execution_count": 14,
   "metadata": {},
   "outputs": [],
   "source": [
    "filas = []\n",
    "filas = []\n",
    "cant_experimentos = 4 * (10000/500 - 1) * 8 * 20/20\n",
    "cant_terminados = 0\n",
    "barra= \"/\" \n",
    "instancia = [1, 5, 9, 12]\n",
    "porcentajeVecinos = []\n",
    "listaIteracionesSinMejoras = []\n",
    "lista = []\n",
    "CANT_REPETIONES_EXPERIMENTOS = 2\n",
    "for i in range(500, 10000, 500):\n",
    "    listaIteracionesSinMejoras.append(i)\n",
    "\n",
    "t = 0.1\n",
    "for i in range(8):\n",
    "    porcentajeVecinos.append(t)\n",
    "    t += 0.1"
   ]
  },
  {
   "cell_type": "code",
   "execution_count": 15,
   "metadata": {},
   "outputs": [
    {
     "data": {
      "text/plain": [
       "'Experimento: 1216/608.0'"
      ]
     },
     "metadata": {},
     "output_type": "display_data"
    }
   ],
   "source": [
    " for i in range(len(instancia)):\n",
    "    for k in range(len(porcentajeVecinos)):\n",
    "        for t in range(len(listaIteracionesSinMejoras)):\n",
    "            promedio = 0\n",
    "            promedio_impacto=0\n",
    "            for j in range(CANT_REPETIONES_EXPERIMENTOS):\n",
    "                prueba_resultados = correr_experimento(\"M22\", archivos[instancia[i]], run[i], f\"{porcentajeVecinos[k]}\",f\"{listaIteracionesSinMejoras[t]}\")\n",
    "                lista = [(len(prueba_resultados) -2),prueba_resultados[1], prueba_resultados[0], porcentajeVecinos[k], listaIteracionesSinMejoras[t]]\n",
    "                promedio+= lista[2]\n",
    "                promedio_impacto+= lista[1]\n",
    "                cant_terminados+=1\n",
    "                clear_output(wait=True)\n",
    "                display('Experimento: ' + str(cant_terminados) + \"/\" + str(cant_experimentos))\n",
    "            lista[2] = promedio/CANT_REPETIONES_EXPERIMENTOS\n",
    "            lista[1] = promedio_impacto/CANT_REPETIONES_EXPERIMENTOS\n",
    "            filas.append(lista)\n",
    "\n",
    "pd.DataFrame(filas, columns=parametros).to_csv(\"resultados/Experimento4/M2.csv\", index=False, header=True)           \n"
   ]
  },
  {
   "cell_type": "markdown",
   "metadata": {},
   "source": [
    "## metaheuristica 1"
   ]
  },
  {
   "cell_type": "markdown",
   "metadata": {},
   "source": [
    "corrido con h1:"
   ]
  },
  {
   "cell_type": "code",
   "execution_count": 13,
   "metadata": {},
   "outputs": [],
   "source": [
    "filas = []\n",
    "cant_experimentos = 4 * (10000/500 - 1) * 8 * 20\n",
    "cant_terminados = 0\n",
    "barra= \"/\" \n",
    "instancia = [1, 5, 9, 12]\n",
    "porcentajeVecinos = []\n",
    "listaIteracionesSinMejoras = []\n",
    "lista = []\n",
    "CANT_REPETIONES_EXPERIMENTOS = 20\n",
    "for i in range(500, 10000, 500):\n",
    "    listaIteracionesSinMejoras.append(i)\n",
    "\n",
    "t = 0.1\n",
    "for i in range(8):\n",
    "    porcentajeVecinos.append(t)\n",
    "    t += 0.1"
   ]
  },
  {
   "cell_type": "code",
   "execution_count": 14,
   "metadata": {
    "scrolled": true
   },
   "outputs": [
    {
     "data": {
      "text/plain": [
       "'Experimento: 12160/12160.0'"
      ]
     },
     "metadata": {},
     "output_type": "display_data"
    }
   ],
   "source": [
    " for i in range(len(instancia)):\n",
    "    for k in range(len(porcentajeVecinos)):\n",
    "        for t in range(len(listaIteracionesSinMejoras)):\n",
    "            promedio = 0\n",
    "            promedio_impacto=0\n",
    "            for j in range(CANT_REPETIONES_EXPERIMENTOS):\n",
    "                prueba_resultados = correr_experimento(\"M1SC\", archivos[instancia[i]], run[i], f\"{porcentajeVecinos[k]}\",f\"{listaIteracionesSinMejoras[t]}\")\n",
    "                lista = [(len(prueba_resultados) -2),prueba_resultados[1], prueba_resultados[0], porcentajeVecinos[k], listaIteracionesSinMejoras[t]]\n",
    "                promedio+= lista[2]\n",
    "                promedio_impacto+= lista[1]\n",
    "                cant_terminados+=1\n",
    "                clear_output(wait=True)\n",
    "                display('Experimento: ' + str(cant_terminados) + \"/\" + str(cant_experimentos))\n",
    "            lista[2] = promedio/CANT_REPETIONES_EXPERIMENTOS\n",
    "            lista[1] = promedio_impacto/CANT_REPETIONES_EXPERIMENTOS\n",
    "            filas.append(lista)\n",
    "\n",
    "pd.DataFrame(filas, columns=parametros).to_csv(\"resultados/Experimento4/M1.csv\", index=False, header=True)           \n"
   ]
  },
  {
   "cell_type": "markdown",
   "metadata": {},
   "source": [
    "# Experimento 4\n"
   ]
  },
  {
   "cell_type": "markdown",
   "metadata": {},
   "source": [
    "### Seteo los paramentros que voy a necesitar para corrrer"
   ]
  },
  {
   "cell_type": "code",
   "execution_count": 11,
   "metadata": {},
   "outputs": [],
   "source": [
    "parametros = [\"N\", \"Impacto\", \"Tiempo\", \"densidadG\", \"densidadH\", \"nombreExperimento\"]"
   ]
  },
  {
   "cell_type": "markdown",
   "metadata": {},
   "source": [
    "### Cargo los nombres de los archivos, la cantidad de nodos y el nombre del experimento\n",
    "\n",
    "notar que el experimento i-esimo se corresponde con el archivo i-esimo y la cantidad de nodos i-esima"
   ]
  },
  {
   "cell_type": "markdown",
   "metadata": {},
   "source": [
    "## m1"
   ]
  },
  {
   "cell_type": "code",
   "execution_count": 12,
   "metadata": {},
   "outputs": [],
   "source": [
    "archivos= []\n",
    "names = ['baja', 'media', 'alta']\n",
    "cantNodos = []\n",
    "nombreExperimento = []\n",
    "densidadG = []\n",
    "densidadH = []\n",
    "run = []\n",
    "for i in range(10, 40+1):\n",
    "    for j in range(len(names)):\n",
    "        for h in range(len(names)):\n",
    "            archivos.append(f\"nuestrasInstancias/G{names[j]}H{names[h]}{i}.txt\")\n",
    "            cantNodos.append(i)\n",
    "            nombreExperimento.append(f'G{names[j]}H{names[h]}')\n",
    "            densidadG.append(f'{names[j]}')\n",
    "            densidadH.append(f'{names[h]}')\n",
    "                    "
   ]
  },
  {
   "cell_type": "code",
   "execution_count": 15,
   "metadata": {},
   "outputs": [],
   "source": [
    "CANT_REPETIONES_EXPERIMENTOS = 10\n",
    "filas = []\n",
    "cant_experimentos = len(cantNodos) * CANT_REPETIONES_EXPERIMENTOS\n",
    "cant_terminados = 0\n",
    "barra= \"/\" \n",
    "lista = []\n"
   ]
  },
  {
   "cell_type": "code",
   "execution_count": 16,
   "metadata": {},
   "outputs": [
    {
     "data": {
      "text/plain": [
       "'Experimento: 10/2790'"
      ]
     },
     "metadata": {},
     "output_type": "display_data"
    },
    {
     "ename": "KeyboardInterrupt",
     "evalue": "",
     "output_type": "error",
     "traceback": [
      "\u001b[0;31m---------------------------------------------------------------------------\u001b[0m",
      "\u001b[0;31mKeyboardInterrupt\u001b[0m                         Traceback (most recent call last)",
      "\u001b[0;32m<ipython-input-16-7a7e0956241d>\u001b[0m in \u001b[0;36m<module>\u001b[0;34m\u001b[0m\n\u001b[1;32m      3\u001b[0m    \u001b[0mpromedio_impacto\u001b[0m\u001b[0;34m=\u001b[0m\u001b[0;36m0\u001b[0m\u001b[0;34m\u001b[0m\u001b[0;34m\u001b[0m\u001b[0m\n\u001b[1;32m      4\u001b[0m    \u001b[0;32mfor\u001b[0m \u001b[0mj\u001b[0m \u001b[0;32min\u001b[0m \u001b[0mrange\u001b[0m\u001b[0;34m(\u001b[0m\u001b[0mCANT_REPETIONES_EXPERIMENTOS\u001b[0m\u001b[0;34m)\u001b[0m\u001b[0;34m:\u001b[0m\u001b[0;34m\u001b[0m\u001b[0;34m\u001b[0m\u001b[0m\n\u001b[0;32m----> 5\u001b[0;31m        \u001b[0mprueba_resultados\u001b[0m \u001b[0;34m=\u001b[0m \u001b[0mcorrer_experimento\u001b[0m\u001b[0;34m(\u001b[0m\u001b[0;34m\"M1SC\"\u001b[0m\u001b[0;34m,\u001b[0m \u001b[0marchivos\u001b[0m\u001b[0;34m[\u001b[0m\u001b[0mi\u001b[0m\u001b[0;34m]\u001b[0m\u001b[0;34m,\u001b[0m \u001b[0mcantNodos\u001b[0m\u001b[0;34m[\u001b[0m\u001b[0mi\u001b[0m\u001b[0;34m]\u001b[0m\u001b[0;34m,\u001b[0m \u001b[0;34mf\"{0.5}\"\u001b[0m\u001b[0;34m,\u001b[0m \u001b[0;34mf\"{6500}\"\u001b[0m\u001b[0;34m)\u001b[0m\u001b[0;34m\u001b[0m\u001b[0;34m\u001b[0m\u001b[0m\n\u001b[0m\u001b[1;32m      6\u001b[0m        \u001b[0mlista\u001b[0m \u001b[0;34m=\u001b[0m \u001b[0;34m[\u001b[0m\u001b[0mcantNodos\u001b[0m\u001b[0;34m[\u001b[0m\u001b[0mi\u001b[0m\u001b[0;34m]\u001b[0m\u001b[0;34m,\u001b[0m \u001b[0mprueba_resultados\u001b[0m\u001b[0;34m[\u001b[0m\u001b[0;36m1\u001b[0m\u001b[0;34m]\u001b[0m\u001b[0;34m,\u001b[0m \u001b[0mprueba_resultados\u001b[0m\u001b[0;34m[\u001b[0m\u001b[0;36m0\u001b[0m\u001b[0;34m]\u001b[0m\u001b[0;34m,\u001b[0m \u001b[0mdensidadG\u001b[0m\u001b[0;34m[\u001b[0m\u001b[0mi\u001b[0m\u001b[0;34m]\u001b[0m\u001b[0;34m,\u001b[0m \u001b[0mdensidadH\u001b[0m\u001b[0;34m[\u001b[0m\u001b[0mi\u001b[0m\u001b[0;34m]\u001b[0m\u001b[0;34m,\u001b[0m \u001b[0mnombreExperimento\u001b[0m\u001b[0;34m[\u001b[0m\u001b[0mi\u001b[0m\u001b[0;34m]\u001b[0m\u001b[0;34m]\u001b[0m\u001b[0;34m\u001b[0m\u001b[0;34m\u001b[0m\u001b[0m\n\u001b[1;32m      7\u001b[0m        \u001b[0mpromedio\u001b[0m\u001b[0;34m+=\u001b[0m \u001b[0mlista\u001b[0m\u001b[0;34m[\u001b[0m\u001b[0;36m2\u001b[0m\u001b[0;34m]\u001b[0m\u001b[0;34m\u001b[0m\u001b[0;34m\u001b[0m\u001b[0m\n",
      "\u001b[0;32m<ipython-input-7-edb8c22d3b91>\u001b[0m in \u001b[0;36mcorrer_experimento\u001b[0;34m(metodo, archivo_instancia, cantNodos, porcentajeVecindad, iteracionesSinSol)\u001b[0m\n\u001b[1;32m     17\u001b[0m \u001b[0;34m\u001b[0m\u001b[0m\n\u001b[1;32m     18\u001b[0m     \u001b[0;31m# Correr experimento.\u001b[0m\u001b[0;34m\u001b[0m\u001b[0;34m\u001b[0m\u001b[0;34m\u001b[0m\u001b[0m\n\u001b[0;32m---> 19\u001b[0;31m     \u001b[0mexit_code\u001b[0m \u001b[0;34m=\u001b[0m \u001b[0mprocess\u001b[0m\u001b[0;34m.\u001b[0m\u001b[0mwait\u001b[0m\u001b[0;34m(\u001b[0m\u001b[0;34m)\u001b[0m\u001b[0;34m\u001b[0m\u001b[0;34m\u001b[0m\u001b[0m\n\u001b[0m\u001b[1;32m     20\u001b[0m \u001b[0;34m\u001b[0m\u001b[0m\n\u001b[1;32m     21\u001b[0m     \u001b[0;31m# Verificar que el proceso no fallo.\u001b[0m\u001b[0;34m\u001b[0m\u001b[0;34m\u001b[0m\u001b[0;34m\u001b[0m\u001b[0m\n",
      "\u001b[0;32m~/anaconda3/lib/python3.8/subprocess.py\u001b[0m in \u001b[0;36mwait\u001b[0;34m(self, timeout)\u001b[0m\n\u001b[1;32m   1077\u001b[0m             \u001b[0mendtime\u001b[0m \u001b[0;34m=\u001b[0m \u001b[0m_time\u001b[0m\u001b[0;34m(\u001b[0m\u001b[0;34m)\u001b[0m \u001b[0;34m+\u001b[0m \u001b[0mtimeout\u001b[0m\u001b[0;34m\u001b[0m\u001b[0;34m\u001b[0m\u001b[0m\n\u001b[1;32m   1078\u001b[0m         \u001b[0;32mtry\u001b[0m\u001b[0;34m:\u001b[0m\u001b[0;34m\u001b[0m\u001b[0;34m\u001b[0m\u001b[0m\n\u001b[0;32m-> 1079\u001b[0;31m             \u001b[0;32mreturn\u001b[0m \u001b[0mself\u001b[0m\u001b[0;34m.\u001b[0m\u001b[0m_wait\u001b[0m\u001b[0;34m(\u001b[0m\u001b[0mtimeout\u001b[0m\u001b[0;34m=\u001b[0m\u001b[0mtimeout\u001b[0m\u001b[0;34m)\u001b[0m\u001b[0;34m\u001b[0m\u001b[0;34m\u001b[0m\u001b[0m\n\u001b[0m\u001b[1;32m   1080\u001b[0m         \u001b[0;32mexcept\u001b[0m \u001b[0mKeyboardInterrupt\u001b[0m\u001b[0;34m:\u001b[0m\u001b[0;34m\u001b[0m\u001b[0;34m\u001b[0m\u001b[0m\n\u001b[1;32m   1081\u001b[0m             \u001b[0;31m# https://bugs.python.org/issue25942\u001b[0m\u001b[0;34m\u001b[0m\u001b[0;34m\u001b[0m\u001b[0;34m\u001b[0m\u001b[0m\n",
      "\u001b[0;32m~/anaconda3/lib/python3.8/subprocess.py\u001b[0m in \u001b[0;36m_wait\u001b[0;34m(self, timeout)\u001b[0m\n\u001b[1;32m   1802\u001b[0m                         \u001b[0;32mif\u001b[0m \u001b[0mself\u001b[0m\u001b[0;34m.\u001b[0m\u001b[0mreturncode\u001b[0m \u001b[0;32mis\u001b[0m \u001b[0;32mnot\u001b[0m \u001b[0;32mNone\u001b[0m\u001b[0;34m:\u001b[0m\u001b[0;34m\u001b[0m\u001b[0;34m\u001b[0m\u001b[0m\n\u001b[1;32m   1803\u001b[0m                             \u001b[0;32mbreak\u001b[0m  \u001b[0;31m# Another thread waited.\u001b[0m\u001b[0;34m\u001b[0m\u001b[0;34m\u001b[0m\u001b[0m\n\u001b[0;32m-> 1804\u001b[0;31m                         \u001b[0;34m(\u001b[0m\u001b[0mpid\u001b[0m\u001b[0;34m,\u001b[0m \u001b[0msts\u001b[0m\u001b[0;34m)\u001b[0m \u001b[0;34m=\u001b[0m \u001b[0mself\u001b[0m\u001b[0;34m.\u001b[0m\u001b[0m_try_wait\u001b[0m\u001b[0;34m(\u001b[0m\u001b[0;36m0\u001b[0m\u001b[0;34m)\u001b[0m\u001b[0;34m\u001b[0m\u001b[0;34m\u001b[0m\u001b[0m\n\u001b[0m\u001b[1;32m   1805\u001b[0m                         \u001b[0;31m# Check the pid and loop as waitpid has been known to\u001b[0m\u001b[0;34m\u001b[0m\u001b[0;34m\u001b[0m\u001b[0;34m\u001b[0m\u001b[0m\n\u001b[1;32m   1806\u001b[0m                         \u001b[0;31m# return 0 even without WNOHANG in odd situations.\u001b[0m\u001b[0;34m\u001b[0m\u001b[0;34m\u001b[0m\u001b[0;34m\u001b[0m\u001b[0m\n",
      "\u001b[0;32m~/anaconda3/lib/python3.8/subprocess.py\u001b[0m in \u001b[0;36m_try_wait\u001b[0;34m(self, wait_flags)\u001b[0m\n\u001b[1;32m   1760\u001b[0m             \u001b[0;34m\"\"\"All callers to this function MUST hold self._waitpid_lock.\"\"\"\u001b[0m\u001b[0;34m\u001b[0m\u001b[0;34m\u001b[0m\u001b[0m\n\u001b[1;32m   1761\u001b[0m             \u001b[0;32mtry\u001b[0m\u001b[0;34m:\u001b[0m\u001b[0;34m\u001b[0m\u001b[0;34m\u001b[0m\u001b[0m\n\u001b[0;32m-> 1762\u001b[0;31m                 \u001b[0;34m(\u001b[0m\u001b[0mpid\u001b[0m\u001b[0;34m,\u001b[0m \u001b[0msts\u001b[0m\u001b[0;34m)\u001b[0m \u001b[0;34m=\u001b[0m \u001b[0mos\u001b[0m\u001b[0;34m.\u001b[0m\u001b[0mwaitpid\u001b[0m\u001b[0;34m(\u001b[0m\u001b[0mself\u001b[0m\u001b[0;34m.\u001b[0m\u001b[0mpid\u001b[0m\u001b[0;34m,\u001b[0m \u001b[0mwait_flags\u001b[0m\u001b[0;34m)\u001b[0m\u001b[0;34m\u001b[0m\u001b[0;34m\u001b[0m\u001b[0m\n\u001b[0m\u001b[1;32m   1763\u001b[0m             \u001b[0;32mexcept\u001b[0m \u001b[0mChildProcessError\u001b[0m\u001b[0;34m:\u001b[0m\u001b[0;34m\u001b[0m\u001b[0;34m\u001b[0m\u001b[0m\n\u001b[1;32m   1764\u001b[0m                 \u001b[0;31m# This happens if SIGCLD is set to be ignored or waiting\u001b[0m\u001b[0;34m\u001b[0m\u001b[0;34m\u001b[0m\u001b[0;34m\u001b[0m\u001b[0m\n",
      "\u001b[0;31mKeyboardInterrupt\u001b[0m: "
     ]
    }
   ],
   "source": [
    " for i in range(len(nombreExperimento)):\n",
    "    promedio = 0\n",
    "    promedio_impacto=0\n",
    "    for j in range(CANT_REPETIONES_EXPERIMENTOS):\n",
    "        prueba_resultados = correr_experimento(\"M1SC\", archivos[i], cantNodos[i], f\"{0.5}\", f\"{6500}\")\n",
    "        lista = [cantNodos[i], prueba_resultados[1], prueba_resultados[0], densidadG[i], densidadH[i], nombreExperimento[i]]\n",
    "        promedio+= lista[2]\n",
    "        promedio_impacto+= lista[1]\n",
    "        cant_terminados+=1\n",
    "        clear_output(wait=True)\n",
    "        display('Experimento: ' + str(cant_terminados) + \"/\" + str(cant_experimentos))\n",
    "    lista[2] = promedio/CANT_REPETIONES_EXPERIMENTOS\n",
    "    lista[1] = promedio_impacto/CANT_REPETIONES_EXPERIMENTOS\n",
    "    filas.append(lista)\n",
    "\n",
    "pd.DataFrame(filas, columns=parametros).to_csv(\"resultados/Experimento5/M1.csv\", index=False, header=True)           \n"
   ]
  },
  {
   "cell_type": "markdown",
   "metadata": {},
   "source": [
    "## m2"
   ]
  },
  {
   "cell_type": "code",
   "execution_count": 11,
   "metadata": {},
   "outputs": [],
   "source": [
    "parametros = [\"N\", \"Impacto\", \"Tiempo\", \"densidadG\", \"densidadH\", \"nombreExperimento\"]"
   ]
  },
  {
   "cell_type": "code",
   "execution_count": 12,
   "metadata": {},
   "outputs": [],
   "source": [
    "archivos= []\n",
    "names = ['baja', 'media', 'alta']\n",
    "cantNodos = []\n",
    "nombreExperimento = []\n",
    "densidadG = []\n",
    "densidadH = []\n",
    "run = []\n",
    "for i in range(10, 40+1):\n",
    "    for j in range(len(names)):\n",
    "        for h in range(len(names)):\n",
    "            archivos.append(f\"nuestrasInstancias/G{names[j]}H{names[h]}{i}.txt\")\n",
    "            cantNodos.append(i)\n",
    "            nombreExperimento.append(f'G{names[j]}H{names[h]}')\n",
    "            densidadG.append(f'{names[j]}')\n",
    "            densidadH.append(f'{names[h]}')\n",
    "                    "
   ]
  },
  {
   "cell_type": "code",
   "execution_count": 13,
   "metadata": {},
   "outputs": [],
   "source": [
    "CANT_REPETIONES_EXPERIMENTOS = 10\n",
    "filas = []\n",
    "cant_experimentos = len(cantNodos) * CANT_REPETIONES_EXPERIMENTOS\n",
    "cant_terminados = 0\n",
    "barra= \"/\" \n",
    "lista = []\n"
   ]
  },
  {
   "cell_type": "code",
   "execution_count": 14,
   "metadata": {},
   "outputs": [
    {
     "data": {
      "text/plain": [
       "'Experimento: 256/2790'"
      ]
     },
     "metadata": {},
     "output_type": "display_data"
    },
    {
     "ename": "KeyboardInterrupt",
     "evalue": "",
     "output_type": "error",
     "traceback": [
      "\u001b[0;31m---------------------------------------------------------------------------\u001b[0m",
      "\u001b[0;31mKeyboardInterrupt\u001b[0m                         Traceback (most recent call last)",
      "\u001b[0;32m<ipython-input-14-79c7b72284f5>\u001b[0m in \u001b[0;36m<module>\u001b[0;34m\u001b[0m\n\u001b[1;32m      3\u001b[0m    \u001b[0mpromedio_impacto\u001b[0m\u001b[0;34m=\u001b[0m\u001b[0;36m0\u001b[0m\u001b[0;34m\u001b[0m\u001b[0;34m\u001b[0m\u001b[0m\n\u001b[1;32m      4\u001b[0m    \u001b[0;32mfor\u001b[0m \u001b[0mj\u001b[0m \u001b[0;32min\u001b[0m \u001b[0mrange\u001b[0m\u001b[0;34m(\u001b[0m\u001b[0mCANT_REPETIONES_EXPERIMENTOS\u001b[0m\u001b[0;34m)\u001b[0m\u001b[0;34m:\u001b[0m\u001b[0;34m\u001b[0m\u001b[0;34m\u001b[0m\u001b[0m\n\u001b[0;32m----> 5\u001b[0;31m        \u001b[0mprueba_resultados\u001b[0m \u001b[0;34m=\u001b[0m \u001b[0mcorrer_experimento\u001b[0m\u001b[0;34m(\u001b[0m\u001b[0;34m\"M22\"\u001b[0m\u001b[0;34m,\u001b[0m \u001b[0marchivos\u001b[0m\u001b[0;34m[\u001b[0m\u001b[0mi\u001b[0m\u001b[0;34m]\u001b[0m\u001b[0;34m,\u001b[0m \u001b[0mcantNodos\u001b[0m\u001b[0;34m[\u001b[0m\u001b[0mi\u001b[0m\u001b[0;34m]\u001b[0m\u001b[0;34m,\u001b[0m \u001b[0;34mf\"{0.5}\"\u001b[0m\u001b[0;34m,\u001b[0m \u001b[0;34mf\"{6500}\"\u001b[0m\u001b[0;34m)\u001b[0m\u001b[0;34m\u001b[0m\u001b[0;34m\u001b[0m\u001b[0m\n\u001b[0m\u001b[1;32m      6\u001b[0m        \u001b[0mlista\u001b[0m \u001b[0;34m=\u001b[0m \u001b[0;34m[\u001b[0m\u001b[0mcantNodos\u001b[0m\u001b[0;34m[\u001b[0m\u001b[0mi\u001b[0m\u001b[0;34m]\u001b[0m\u001b[0;34m,\u001b[0m \u001b[0mprueba_resultados\u001b[0m\u001b[0;34m[\u001b[0m\u001b[0;36m1\u001b[0m\u001b[0;34m]\u001b[0m\u001b[0;34m,\u001b[0m \u001b[0mprueba_resultados\u001b[0m\u001b[0;34m[\u001b[0m\u001b[0;36m0\u001b[0m\u001b[0;34m]\u001b[0m\u001b[0;34m,\u001b[0m \u001b[0mdensidadG\u001b[0m\u001b[0;34m[\u001b[0m\u001b[0mi\u001b[0m\u001b[0;34m]\u001b[0m\u001b[0;34m,\u001b[0m \u001b[0mdensidadH\u001b[0m\u001b[0;34m[\u001b[0m\u001b[0mi\u001b[0m\u001b[0;34m]\u001b[0m\u001b[0;34m,\u001b[0m \u001b[0mnombreExperimento\u001b[0m\u001b[0;34m[\u001b[0m\u001b[0mi\u001b[0m\u001b[0;34m]\u001b[0m\u001b[0;34m]\u001b[0m\u001b[0;34m\u001b[0m\u001b[0;34m\u001b[0m\u001b[0m\n\u001b[1;32m      7\u001b[0m        \u001b[0mpromedio\u001b[0m\u001b[0;34m+=\u001b[0m \u001b[0mlista\u001b[0m\u001b[0;34m[\u001b[0m\u001b[0;36m2\u001b[0m\u001b[0;34m]\u001b[0m\u001b[0;34m\u001b[0m\u001b[0;34m\u001b[0m\u001b[0m\n",
      "\u001b[0;32m<ipython-input-10-edb8c22d3b91>\u001b[0m in \u001b[0;36mcorrer_experimento\u001b[0;34m(metodo, archivo_instancia, cantNodos, porcentajeVecindad, iteracionesSinSol)\u001b[0m\n\u001b[1;32m     17\u001b[0m \u001b[0;34m\u001b[0m\u001b[0m\n\u001b[1;32m     18\u001b[0m     \u001b[0;31m# Correr experimento.\u001b[0m\u001b[0;34m\u001b[0m\u001b[0;34m\u001b[0m\u001b[0;34m\u001b[0m\u001b[0m\n\u001b[0;32m---> 19\u001b[0;31m     \u001b[0mexit_code\u001b[0m \u001b[0;34m=\u001b[0m \u001b[0mprocess\u001b[0m\u001b[0;34m.\u001b[0m\u001b[0mwait\u001b[0m\u001b[0;34m(\u001b[0m\u001b[0;34m)\u001b[0m\u001b[0;34m\u001b[0m\u001b[0;34m\u001b[0m\u001b[0m\n\u001b[0m\u001b[1;32m     20\u001b[0m \u001b[0;34m\u001b[0m\u001b[0m\n\u001b[1;32m     21\u001b[0m     \u001b[0;31m# Verificar que el proceso no fallo.\u001b[0m\u001b[0;34m\u001b[0m\u001b[0;34m\u001b[0m\u001b[0;34m\u001b[0m\u001b[0m\n",
      "\u001b[0;32m~/anaconda3/lib/python3.8/subprocess.py\u001b[0m in \u001b[0;36mwait\u001b[0;34m(self, timeout)\u001b[0m\n\u001b[1;32m   1077\u001b[0m             \u001b[0mendtime\u001b[0m \u001b[0;34m=\u001b[0m \u001b[0m_time\u001b[0m\u001b[0;34m(\u001b[0m\u001b[0;34m)\u001b[0m \u001b[0;34m+\u001b[0m \u001b[0mtimeout\u001b[0m\u001b[0;34m\u001b[0m\u001b[0;34m\u001b[0m\u001b[0m\n\u001b[1;32m   1078\u001b[0m         \u001b[0;32mtry\u001b[0m\u001b[0;34m:\u001b[0m\u001b[0;34m\u001b[0m\u001b[0;34m\u001b[0m\u001b[0m\n\u001b[0;32m-> 1079\u001b[0;31m             \u001b[0;32mreturn\u001b[0m \u001b[0mself\u001b[0m\u001b[0;34m.\u001b[0m\u001b[0m_wait\u001b[0m\u001b[0;34m(\u001b[0m\u001b[0mtimeout\u001b[0m\u001b[0;34m=\u001b[0m\u001b[0mtimeout\u001b[0m\u001b[0;34m)\u001b[0m\u001b[0;34m\u001b[0m\u001b[0;34m\u001b[0m\u001b[0m\n\u001b[0m\u001b[1;32m   1080\u001b[0m         \u001b[0;32mexcept\u001b[0m \u001b[0mKeyboardInterrupt\u001b[0m\u001b[0;34m:\u001b[0m\u001b[0;34m\u001b[0m\u001b[0;34m\u001b[0m\u001b[0m\n\u001b[1;32m   1081\u001b[0m             \u001b[0;31m# https://bugs.python.org/issue25942\u001b[0m\u001b[0;34m\u001b[0m\u001b[0;34m\u001b[0m\u001b[0;34m\u001b[0m\u001b[0m\n",
      "\u001b[0;32m~/anaconda3/lib/python3.8/subprocess.py\u001b[0m in \u001b[0;36m_wait\u001b[0;34m(self, timeout)\u001b[0m\n\u001b[1;32m   1802\u001b[0m                         \u001b[0;32mif\u001b[0m \u001b[0mself\u001b[0m\u001b[0;34m.\u001b[0m\u001b[0mreturncode\u001b[0m \u001b[0;32mis\u001b[0m \u001b[0;32mnot\u001b[0m \u001b[0;32mNone\u001b[0m\u001b[0;34m:\u001b[0m\u001b[0;34m\u001b[0m\u001b[0;34m\u001b[0m\u001b[0m\n\u001b[1;32m   1803\u001b[0m                             \u001b[0;32mbreak\u001b[0m  \u001b[0;31m# Another thread waited.\u001b[0m\u001b[0;34m\u001b[0m\u001b[0;34m\u001b[0m\u001b[0m\n\u001b[0;32m-> 1804\u001b[0;31m                         \u001b[0;34m(\u001b[0m\u001b[0mpid\u001b[0m\u001b[0;34m,\u001b[0m \u001b[0msts\u001b[0m\u001b[0;34m)\u001b[0m \u001b[0;34m=\u001b[0m \u001b[0mself\u001b[0m\u001b[0;34m.\u001b[0m\u001b[0m_try_wait\u001b[0m\u001b[0;34m(\u001b[0m\u001b[0;36m0\u001b[0m\u001b[0;34m)\u001b[0m\u001b[0;34m\u001b[0m\u001b[0;34m\u001b[0m\u001b[0m\n\u001b[0m\u001b[1;32m   1805\u001b[0m                         \u001b[0;31m# Check the pid and loop as waitpid has been known to\u001b[0m\u001b[0;34m\u001b[0m\u001b[0;34m\u001b[0m\u001b[0;34m\u001b[0m\u001b[0m\n\u001b[1;32m   1806\u001b[0m                         \u001b[0;31m# return 0 even without WNOHANG in odd situations.\u001b[0m\u001b[0;34m\u001b[0m\u001b[0;34m\u001b[0m\u001b[0;34m\u001b[0m\u001b[0m\n",
      "\u001b[0;32m~/anaconda3/lib/python3.8/subprocess.py\u001b[0m in \u001b[0;36m_try_wait\u001b[0;34m(self, wait_flags)\u001b[0m\n\u001b[1;32m   1760\u001b[0m             \u001b[0;34m\"\"\"All callers to this function MUST hold self._waitpid_lock.\"\"\"\u001b[0m\u001b[0;34m\u001b[0m\u001b[0;34m\u001b[0m\u001b[0m\n\u001b[1;32m   1761\u001b[0m             \u001b[0;32mtry\u001b[0m\u001b[0;34m:\u001b[0m\u001b[0;34m\u001b[0m\u001b[0;34m\u001b[0m\u001b[0m\n\u001b[0;32m-> 1762\u001b[0;31m                 \u001b[0;34m(\u001b[0m\u001b[0mpid\u001b[0m\u001b[0;34m,\u001b[0m \u001b[0msts\u001b[0m\u001b[0;34m)\u001b[0m \u001b[0;34m=\u001b[0m \u001b[0mos\u001b[0m\u001b[0;34m.\u001b[0m\u001b[0mwaitpid\u001b[0m\u001b[0;34m(\u001b[0m\u001b[0mself\u001b[0m\u001b[0;34m.\u001b[0m\u001b[0mpid\u001b[0m\u001b[0;34m,\u001b[0m \u001b[0mwait_flags\u001b[0m\u001b[0;34m)\u001b[0m\u001b[0;34m\u001b[0m\u001b[0;34m\u001b[0m\u001b[0m\n\u001b[0m\u001b[1;32m   1763\u001b[0m             \u001b[0;32mexcept\u001b[0m \u001b[0mChildProcessError\u001b[0m\u001b[0;34m:\u001b[0m\u001b[0;34m\u001b[0m\u001b[0;34m\u001b[0m\u001b[0m\n\u001b[1;32m   1764\u001b[0m                 \u001b[0;31m# This happens if SIGCLD is set to be ignored or waiting\u001b[0m\u001b[0;34m\u001b[0m\u001b[0;34m\u001b[0m\u001b[0;34m\u001b[0m\u001b[0m\n",
      "\u001b[0;31mKeyboardInterrupt\u001b[0m: "
     ]
    }
   ],
   "source": [
    " for i in range(len(nombreExperimento)):\n",
    "    promedio = 0\n",
    "    promedio_impacto=0\n",
    "    for j in range(CANT_REPETIONES_EXPERIMENTOS):\n",
    "        prueba_resultados = correr_experimento(\"M22\", archivos[i], cantNodos[i], f\"{0.5}\", f\"{6500}\")\n",
    "        lista = [cantNodos[i], prueba_resultados[1], prueba_resultados[0], densidadG[i], densidadH[i], nombreExperimento[i]]\n",
    "        promedio+= lista[2]\n",
    "        promedio_impacto+= lista[1]\n",
    "        cant_terminados+=1\n",
    "        clear_output(wait=True)\n",
    "        display('Experimento: ' + str(cant_terminados) + \"/\" + str(cant_experimentos))\n",
    "    lista[2] = promedio/CANT_REPETIONES_EXPERIMENTOS\n",
    "    lista[1] = promedio_impacto/CANT_REPETIONES_EXPERIMENTOS\n",
    "    filas.append(lista)\n",
    "\n",
    "pd.DataFrame(filas, columns=parametros).to_csv(\"resultados/Experimento5/M2.csv\", index=False, header=True)           \n"
   ]
  },
  {
   "cell_type": "code",
   "execution_count": null,
   "metadata": {},
   "outputs": [],
   "source": []
  }
 ],
 "metadata": {
  "kernelspec": {
   "display_name": "Python 3",
   "language": "python",
   "name": "python3"
  },
  "language_info": {
   "codemirror_mode": {
    "name": "ipython",
    "version": 3
   },
   "file_extension": ".py",
   "mimetype": "text/x-python",
   "name": "python",
   "nbconvert_exporter": "python",
   "pygments_lexer": "ipython3",
   "version": "3.8.3"
  }
 },
 "nbformat": 4,
 "nbformat_minor": 2
}
