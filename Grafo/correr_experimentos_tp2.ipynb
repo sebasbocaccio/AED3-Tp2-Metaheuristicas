{
 "cells": [
  {
   "cell_type": "code",
   "execution_count": 12,
   "metadata": {},
   "outputs": [],
   "source": [
    "\n",
    "import math, subprocess\n",
    "import pandas as pd\n",
    "import numpy as np\n",
    "from IPython.display import display, clear_output\n",
    "import seaborn as sns"
   ]
  },
  {
   "cell_type": "code",
   "execution_count": 13,
   "metadata": {},
   "outputs": [
    {
     "name": "stdout",
     "output_type": "stream",
     "text": [
      "rm -rf *.o\r\n",
      "rm main\r\n",
      "g++ -o main main.cpp solucion.cpp -O2 -std=c++14\r\n"
     ]
    }
   ],
   "source": [
    "!make clean && make all"
   ]
  },
  {
   "cell_type": "code",
   "execution_count": 14,
   "metadata": {},
   "outputs": [],
   "source": [
    "def leer_instancia(path_instancia):\n",
    "    with open(path_instancia, \"r\") as f:\n",
    "        return f.read();"
   ]
  },
  {
   "cell_type": "code",
   "execution_count": 15,
   "metadata": {},
   "outputs": [],
   "source": [
    "def save_instance(dataset, instance_name, N, impacto, tiempo):\n",
    "    with open(F\"resultados/{dataset}/{instance_name}.txt\", \"w\") as f:\n",
    "        lista = [N,impacto,tiempo]\n",
    "        for i in range(len(lista)):\n",
    "            print(lista[i], file=f, sep=' ', end =' ')"
   ]
  },
  {
   "cell_type": "code",
   "execution_count": 16,
   "metadata": {},
   "outputs": [],
   "source": [
    "save_instance(\"Experimento1\", \"a\", 1,0,1);\n",
    "save_instance(\"Experimento1\", \"a\", 2,0,1);"
   ]
  },
  {
   "cell_type": "code",
   "execution_count": 17,
   "metadata": {},
   "outputs": [],
   "source": [
    "CANT_REPETIONES_EXPERIMENTOS = 20"
   ]
  },
  {
   "cell_type": "code",
   "execution_count": 18,
   "metadata": {},
   "outputs": [],
   "source": [
    "def correr_experimento(metodo, archivo_instancia, cantNodos):\n",
    "    \n",
    "    # Leer archivo de la instancia.\n",
    "    instancia = leer_instancia(archivo_instancia)\n",
    "    \n",
    "    \n",
    "    # Crear proceso para ejecutar el codigo.\n",
    "    process = subprocess.Popen([\"./main\", metodo], stderr=subprocess.PIPE, stdout=subprocess.PIPE, stdin=subprocess.PIPE, universal_newlines = True)\n",
    "    \n",
    "    \n",
    "    # Poner la instancia en la entrada estandar.\n",
    "    process.stdin.write(instancia)\n",
    "    process.stdin.write(\"\\n\")\n",
    "    process.stdin.flush()\n",
    "   \n",
    "    #print(instancia)\n",
    "    \n",
    "    # Correr experimento.\n",
    "    exit_code = process.wait()\n",
    "\n",
    "    # Verificar que el proceso no fallo.\n",
    "    if exit_code != 0: raise ValueError(F\"Hubo un error en la experimentacion para el algoritmo: {metodo} con la instancia {archivo_instancia}.\")\n",
    "    # Leer salida de STDERR con los tiempos de ejecucion de cada metodo.\n",
    "    resultados = []\n",
    "    tiempo = float(process.stderr.read())\n",
    "    resultados.append(tiempo)\n",
    "    \n",
    "    resultado = process.stdout.read();    \n",
    "    resultado = resultado.split()\n",
    "    resultado = map(int, resultado)\n",
    "    resultado = list(resultado)\n",
    "  \n",
    "    resultados += resultado \n",
    "    \n",
    "    \n",
    "    process.stdin.close();\n",
    "    process.stdout.close();\n",
    "    process.stderr.close();\n",
    "    \n",
    "    return resultados;"
   ]
  },
  {
   "cell_type": "code",
   "execution_count": 19,
   "metadata": {},
   "outputs": [],
   "source": [
    "archivos= []\n",
    "run = []\n",
    "for i in range(31):\n",
    "    if ( (i > 5) & (i % 2 == 0)):\n",
    "        archivos.append(f\"instancias/CMI_n{i}.in\")\n",
    "        run.append(i)\n",
    "            "
   ]
  },
  {
   "cell_type": "code",
   "execution_count": 9,
   "metadata": {
    "scrolled": false
   },
   "outputs": [
    {
     "name": "stdout",
     "output_type": "stream",
     "text": [
      "[441.256, 2, 2, 0, 1, 0, 2, 0]\n",
      "[476.071, 6, 0, 1, 1, 0, 0, 0, 1, 2]\n",
      "[1183.35, 4, 1, 0, 1, 1, 0, 3, 0, 3, 2, 1]\n",
      "[784.624, 16, 0, 0, 0, 2, 1, 1, 1, 2, 0, 0, 0, 1]\n",
      "[1492.4, 12, 2, 0, 0, 2, 3, 1, 0, 1, 0, 2, 3, 1, 2, 0]\n",
      "[1826.84, 19, 3, 0, 0, 2, 0, 2, 2, 2, 0, 0, 0, 3, 1, 1, 3, 1]\n",
      "[7344.03, 24, 3, 1, 2, 0, 2, 2, 3, 2, 0, 1, 1, 0, 1, 0, 0, 0, 0, 2]\n",
      "[2860.12, 20, 2, 3, 3, 4, 1, 0, 0, 2, 4, 0, 2, 1, 4, 5, 1, 0, 2, 2, 3, 1]\n",
      "[4453.56, 26, 0, 0, 0, 5, 4, 1, 3, 0, 3, 1, 0, 0, 4, 0, 0, 0, 3, 2, 1, 2, 4, 1]\n",
      "[5921.13, 27, 4, 4, 1, 1, 2, 0, 0, 4, 2, 0, 0, 1, 3, 3, 2, 0, 2, 3, 1, 3, 0, 1, 2, 5]\n",
      "[7942.67, 37, 2, 1, 4, 3, 3, 0, 1, 3, 1, 0, 2, 1, 3, 2, 2, 0, 0, 1, 2, 3, 0, 4, 0, 0, 1, 2]\n",
      "[7805.11, 44, 3, 1, 3, 1, 4, 0, 2, 0, 0, 1, 4, 2, 2, 1, 1, 0, 1, 4, 0, 2, 4, 1, 2, 0, 3, 0, 0, 3]\n",
      "[12762.9, 46, 0, 4, 2, 3, 3, 0, 2, 4, 4, 2, 3, 0, 0, 3, 2, 0, 0, 1, 0, 3, 2, 2, 2, 0, 1, 5, 3, 3, 1, 1]\n"
     ]
    }
   ],
   "source": [
    "\n",
    "for i in range(len(archivos)):\n",
    "    print(correr_experimento(\"M2\", archivos[i],run[i]))"
   ]
  },
  {
   "cell_type": "markdown",
   "metadata": {},
   "source": [
    "# parametros"
   ]
  },
  {
   "cell_type": "code",
   "execution_count": 20,
   "metadata": {},
   "outputs": [],
   "source": [
    "parametros = [\"N\", \"Impacto\", \"Tiempo\"]\n"
   ]
  },
  {
   "cell_type": "markdown",
   "metadata": {},
   "source": [
    "# Experimento 1: Comparacion de heuristicas \n"
   ]
  },
  {
   "cell_type": "markdown",
   "metadata": {},
   "source": [
    "## Heuristica 1"
   ]
  },
  {
   "cell_type": "code",
   "execution_count": 10,
   "metadata": {},
   "outputs": [],
   "source": [
    "\n",
    "parametros = [\"N\", \"Impacto\", \"Tiempo\"]\n",
    "filas = []\n",
    "for i in range((len(archivos))): \n",
    "    promedio = 0\n",
    "    for j in range(CANT_REPETIONES_EXPERIMENTOS):\n",
    "        prueba_resultados = correr_experimento(\"H1\", archivos[i],run[i])\n",
    "        lista = [(len(prueba_resultados) -2),prueba_resultados[1], prueba_resultados[0]]\n",
    "        promedio+= lista[2]\n",
    "        \n",
    "    lista[2] = promedio/CANT_REPETIONES_EXPERIMENTOS\n",
    "    filas.append(lista)\n",
    "    pd.DataFrame(filas, columns=parametros).to_csv(\"resultados/Experimento1/h1.csv\", index=False, header=True)           \n",
    "    \n"
   ]
  },
  {
   "cell_type": "markdown",
   "metadata": {},
   "source": [
    "## Heuristica 2"
   ]
  },
  {
   "cell_type": "code",
   "execution_count": 11,
   "metadata": {},
   "outputs": [],
   "source": [
    "\n",
    "filas = []\n",
    "for i in range((len(archivos))): \n",
    "    promedio = 0\n",
    "    for j in range(CANT_REPETIONES_EXPERIMENTOS):\n",
    "        prueba_resultados = correr_experimento(\"H2\", archivos[i],run[i])\n",
    "        lista = [(len(prueba_resultados) -2),prueba_resultados[1], prueba_resultados[0]]\n",
    "        promedio+= lista[2]\n",
    "        \n",
    "    lista[2] = promedio/CANT_REPETIONES_EXPERIMENTOS\n",
    "    filas.append(lista)\n",
    "    pd.DataFrame(filas, columns=parametros).to_csv(\"resultados/Experimento1/h2.csv\", index=False, header=True)           \n",
    "    \n"
   ]
  },
  {
   "cell_type": "markdown",
   "metadata": {},
   "source": [
    "## Aca se crea el csv de los resultados de la catedra"
   ]
  },
  {
   "cell_type": "code",
   "execution_count": 20,
   "metadata": {},
   "outputs": [
    {
     "name": "stdout",
     "output_type": "stream",
     "text": [
      "1 \n",
      "6 \n",
      "3 \n",
      "16\n",
      "12\n",
      "20\n",
      "27\n",
      "25\n",
      "26\n",
      "33\n",
      "38\n",
      "48\n",
      "47\n"
     ]
    }
   ],
   "source": [
    "parametros_sin_tiempo = [\"N\", \"Impacto\"]\n",
    "archivos_catedra= []\n",
    "run = []\n",
    "filas = []\n",
    "for i in range(31):\n",
    "    if ( (i > 5) & (i % 2 == 0)):\n",
    "        with open(f\"instancias/CMI_n{i}.out\") as f:\n",
    "            c = f.read(2)\n",
    "            print(c)\n",
    "            lista = [i,c]\n",
    "            filas.append(lista)\n",
    "\n",
    "pd.DataFrame(filas, columns=parametros_sin_tiempo).to_csv(\"resultados/best_results.csv\", index=False, header=True)   "
   ]
  },
  {
   "cell_type": "markdown",
   "metadata": {},
   "source": [
    "# Experimento 3 "
   ]
  },
  {
   "cell_type": "markdown",
   "metadata": {},
   "source": [
    "## Metaheuristica M2"
   ]
  },
  {
   "cell_type": "markdown",
   "metadata": {},
   "source": [
    "### Corrido con H2"
   ]
  },
  {
   "cell_type": "code",
   "execution_count": 23,
   "metadata": {},
   "outputs": [
    {
     "data": {
      "text/plain": [
       "'Experimento: 40/260'"
      ]
     },
     "metadata": {},
     "output_type": "display_data"
    },
    {
     "ename": "ValueError",
     "evalue": "Hubo un error en la experimentacion para el algoritmo: M2 con la instancia instancias/CMI_n10.in.",
     "output_type": "error",
     "traceback": [
      "\u001b[0;31m---------------------------------------------------------------------------\u001b[0m",
      "\u001b[0;31mValueError\u001b[0m                                Traceback (most recent call last)",
      "\u001b[0;32m<ipython-input-23-1d7edb0a1087>\u001b[0m in \u001b[0;36m<module>\u001b[0;34m()\u001b[0m\n\u001b[1;32m      8\u001b[0m \u001b[0;34m\u001b[0m\u001b[0m\n\u001b[1;32m      9\u001b[0m     \u001b[0;32mfor\u001b[0m \u001b[0mj\u001b[0m \u001b[0;32min\u001b[0m \u001b[0mrange\u001b[0m\u001b[0;34m(\u001b[0m\u001b[0mCANT_REPETIONES_EXPERIMENTOS\u001b[0m\u001b[0;34m)\u001b[0m\u001b[0;34m:\u001b[0m\u001b[0;34m\u001b[0m\u001b[0;34m\u001b[0m\u001b[0m\n\u001b[0;32m---> 10\u001b[0;31m         \u001b[0mprueba_resultados\u001b[0m \u001b[0;34m=\u001b[0m \u001b[0mcorrer_experimento\u001b[0m\u001b[0;34m(\u001b[0m\u001b[0;34m\"M2\"\u001b[0m\u001b[0;34m,\u001b[0m \u001b[0marchivos\u001b[0m\u001b[0;34m[\u001b[0m\u001b[0mi\u001b[0m\u001b[0;34m]\u001b[0m\u001b[0;34m,\u001b[0m\u001b[0mrun\u001b[0m\u001b[0;34m[\u001b[0m\u001b[0mi\u001b[0m\u001b[0;34m]\u001b[0m\u001b[0;34m)\u001b[0m\u001b[0;34m\u001b[0m\u001b[0;34m\u001b[0m\u001b[0m\n\u001b[0m\u001b[1;32m     11\u001b[0m         \u001b[0mlista\u001b[0m \u001b[0;34m=\u001b[0m \u001b[0;34m[\u001b[0m\u001b[0;34m(\u001b[0m\u001b[0mlen\u001b[0m\u001b[0;34m(\u001b[0m\u001b[0mprueba_resultados\u001b[0m\u001b[0;34m)\u001b[0m \u001b[0;34m-\u001b[0m\u001b[0;36m2\u001b[0m\u001b[0;34m)\u001b[0m\u001b[0;34m,\u001b[0m\u001b[0mprueba_resultados\u001b[0m\u001b[0;34m[\u001b[0m\u001b[0;36m1\u001b[0m\u001b[0;34m]\u001b[0m\u001b[0;34m,\u001b[0m \u001b[0mprueba_resultados\u001b[0m\u001b[0;34m[\u001b[0m\u001b[0;36m0\u001b[0m\u001b[0;34m]\u001b[0m\u001b[0;34m]\u001b[0m\u001b[0;34m\u001b[0m\u001b[0;34m\u001b[0m\u001b[0m\n\u001b[1;32m     12\u001b[0m         \u001b[0mpromedio\u001b[0m\u001b[0;34m+=\u001b[0m \u001b[0mlista\u001b[0m\u001b[0;34m[\u001b[0m\u001b[0;36m2\u001b[0m\u001b[0;34m]\u001b[0m\u001b[0;34m\u001b[0m\u001b[0;34m\u001b[0m\u001b[0m\n",
      "\u001b[0;32m<ipython-input-18-73d29330af33>\u001b[0m in \u001b[0;36mcorrer_experimento\u001b[0;34m(metodo, archivo_instancia, cantNodos)\u001b[0m\n\u001b[1;32m     20\u001b[0m \u001b[0;34m\u001b[0m\u001b[0m\n\u001b[1;32m     21\u001b[0m     \u001b[0;31m# Verificar que el proceso no fallo.\u001b[0m\u001b[0;34m\u001b[0m\u001b[0;34m\u001b[0m\u001b[0;34m\u001b[0m\u001b[0m\n\u001b[0;32m---> 22\u001b[0;31m     \u001b[0;32mif\u001b[0m \u001b[0mexit_code\u001b[0m \u001b[0;34m!=\u001b[0m \u001b[0;36m0\u001b[0m\u001b[0;34m:\u001b[0m \u001b[0;32mraise\u001b[0m \u001b[0mValueError\u001b[0m\u001b[0;34m(\u001b[0m\u001b[0;34mF\"Hubo un error en la experimentacion para el algoritmo: {metodo} con la instancia {archivo_instancia}.\"\u001b[0m\u001b[0;34m)\u001b[0m\u001b[0;34m\u001b[0m\u001b[0;34m\u001b[0m\u001b[0m\n\u001b[0m\u001b[1;32m     23\u001b[0m     \u001b[0;31m# Leer salida de STDERR con los tiempos de ejecucion de cada metodo.\u001b[0m\u001b[0;34m\u001b[0m\u001b[0;34m\u001b[0m\u001b[0;34m\u001b[0m\u001b[0m\n\u001b[1;32m     24\u001b[0m     \u001b[0mresultados\u001b[0m \u001b[0;34m=\u001b[0m \u001b[0;34m[\u001b[0m\u001b[0;34m]\u001b[0m\u001b[0;34m\u001b[0m\u001b[0;34m\u001b[0m\u001b[0m\n",
      "\u001b[0;31mValueError\u001b[0m: Hubo un error en la experimentacion para el algoritmo: M2 con la instancia instancias/CMI_n10.in."
     ]
    }
   ],
   "source": [
    "filas = []\n",
    "cant_experimentos = len(archivos)*CANT_REPETIONES_EXPERIMENTOS\n",
    "cant_terminados = 0\n",
    "barra= \"/\" \n",
    "for i in range((len(archivos))): \n",
    "    promedio = 0\n",
    "    promedio_impacto=0 \n",
    "    \n",
    "    for j in range(CANT_REPETIONES_EXPERIMENTOS):\n",
    "        prueba_resultados = correr_experimento(\"M2\", archivos[i],run[i])\n",
    "        lista = [(len(prueba_resultados) -2),prueba_resultados[1], prueba_resultados[0]]\n",
    "        promedio+= lista[2]\n",
    "        promedio_impacto+= lista[1]\n",
    "        cant_terminados+=1\n",
    "        clear_output(wait=True)\n",
    "        display('Experimento: ' + str(cant_terminados) + \"/\" + str(cant_experimentos))\n",
    "    \n",
    "    lista[2] = promedio/CANT_REPETIONES_EXPERIMENTOS\n",
    "    lista[2] = promedio_impacto/CANT_REPETIONES_EXPERIMENTOS\n",
    "    filas.append(lista)\n",
    "    pd.DataFrame(filas, columns=parametros).to_csv(\"resultados/Experimento3/M2H2.csv\", index=False, header=True)           \n"
   ]
  },
  {
   "cell_type": "markdown",
   "metadata": {},
   "source": [
    "### Corrido con H1"
   ]
  },
  {
   "cell_type": "markdown",
   "metadata": {},
   "source": []
  },
  {
   "cell_type": "code",
   "execution_count": 25,
   "metadata": {},
   "outputs": [
    {
     "data": {
      "text/plain": [
       "'Experimento: 40/260'"
      ]
     },
     "metadata": {},
     "output_type": "display_data"
    },
    {
     "ename": "ValueError",
     "evalue": "Hubo un error en la experimentacion para el algoritmo: M2 con la instancia instancias/CMI_n10.in.",
     "output_type": "error",
     "traceback": [
      "\u001b[0;31m---------------------------------------------------------------------------\u001b[0m",
      "\u001b[0;31mValueError\u001b[0m                                Traceback (most recent call last)",
      "\u001b[0;32m<ipython-input-25-234c46232d03>\u001b[0m in \u001b[0;36m<module>\u001b[0;34m()\u001b[0m\n\u001b[1;32m      8\u001b[0m \u001b[0;34m\u001b[0m\u001b[0m\n\u001b[1;32m      9\u001b[0m     \u001b[0;32mfor\u001b[0m \u001b[0mj\u001b[0m \u001b[0;32min\u001b[0m \u001b[0mrange\u001b[0m\u001b[0;34m(\u001b[0m\u001b[0mCANT_REPETIONES_EXPERIMENTOS\u001b[0m\u001b[0;34m)\u001b[0m\u001b[0;34m:\u001b[0m\u001b[0;34m\u001b[0m\u001b[0;34m\u001b[0m\u001b[0m\n\u001b[0;32m---> 10\u001b[0;31m         \u001b[0mprueba_resultados\u001b[0m \u001b[0;34m=\u001b[0m \u001b[0mcorrer_experimento\u001b[0m\u001b[0;34m(\u001b[0m\u001b[0;34m\"M2\"\u001b[0m\u001b[0;34m,\u001b[0m \u001b[0marchivos\u001b[0m\u001b[0;34m[\u001b[0m\u001b[0mi\u001b[0m\u001b[0;34m]\u001b[0m\u001b[0;34m,\u001b[0m\u001b[0mrun\u001b[0m\u001b[0;34m[\u001b[0m\u001b[0mi\u001b[0m\u001b[0;34m]\u001b[0m\u001b[0;34m)\u001b[0m\u001b[0;34m\u001b[0m\u001b[0;34m\u001b[0m\u001b[0m\n\u001b[0m\u001b[1;32m     11\u001b[0m         \u001b[0mlista\u001b[0m \u001b[0;34m=\u001b[0m \u001b[0;34m[\u001b[0m\u001b[0;34m(\u001b[0m\u001b[0mlen\u001b[0m\u001b[0;34m(\u001b[0m\u001b[0mprueba_resultados\u001b[0m\u001b[0;34m)\u001b[0m \u001b[0;34m-\u001b[0m\u001b[0;36m2\u001b[0m\u001b[0;34m)\u001b[0m\u001b[0;34m,\u001b[0m\u001b[0mprueba_resultados\u001b[0m\u001b[0;34m[\u001b[0m\u001b[0;36m1\u001b[0m\u001b[0;34m]\u001b[0m\u001b[0;34m,\u001b[0m \u001b[0mprueba_resultados\u001b[0m\u001b[0;34m[\u001b[0m\u001b[0;36m0\u001b[0m\u001b[0;34m]\u001b[0m\u001b[0;34m]\u001b[0m\u001b[0;34m\u001b[0m\u001b[0;34m\u001b[0m\u001b[0m\n\u001b[1;32m     12\u001b[0m         \u001b[0mpromedio\u001b[0m\u001b[0;34m+=\u001b[0m \u001b[0mlista\u001b[0m\u001b[0;34m[\u001b[0m\u001b[0;36m2\u001b[0m\u001b[0;34m]\u001b[0m\u001b[0;34m\u001b[0m\u001b[0;34m\u001b[0m\u001b[0m\n",
      "\u001b[0;32m<ipython-input-18-73d29330af33>\u001b[0m in \u001b[0;36mcorrer_experimento\u001b[0;34m(metodo, archivo_instancia, cantNodos)\u001b[0m\n\u001b[1;32m     20\u001b[0m \u001b[0;34m\u001b[0m\u001b[0m\n\u001b[1;32m     21\u001b[0m     \u001b[0;31m# Verificar que el proceso no fallo.\u001b[0m\u001b[0;34m\u001b[0m\u001b[0;34m\u001b[0m\u001b[0;34m\u001b[0m\u001b[0m\n\u001b[0;32m---> 22\u001b[0;31m     \u001b[0;32mif\u001b[0m \u001b[0mexit_code\u001b[0m \u001b[0;34m!=\u001b[0m \u001b[0;36m0\u001b[0m\u001b[0;34m:\u001b[0m \u001b[0;32mraise\u001b[0m \u001b[0mValueError\u001b[0m\u001b[0;34m(\u001b[0m\u001b[0;34mF\"Hubo un error en la experimentacion para el algoritmo: {metodo} con la instancia {archivo_instancia}.\"\u001b[0m\u001b[0;34m)\u001b[0m\u001b[0;34m\u001b[0m\u001b[0;34m\u001b[0m\u001b[0m\n\u001b[0m\u001b[1;32m     23\u001b[0m     \u001b[0;31m# Leer salida de STDERR con los tiempos de ejecucion de cada metodo.\u001b[0m\u001b[0;34m\u001b[0m\u001b[0;34m\u001b[0m\u001b[0;34m\u001b[0m\u001b[0m\n\u001b[1;32m     24\u001b[0m     \u001b[0mresultados\u001b[0m \u001b[0;34m=\u001b[0m \u001b[0;34m[\u001b[0m\u001b[0;34m]\u001b[0m\u001b[0;34m\u001b[0m\u001b[0;34m\u001b[0m\u001b[0m\n",
      "\u001b[0;31mValueError\u001b[0m: Hubo un error en la experimentacion para el algoritmo: M2 con la instancia instancias/CMI_n10.in."
     ]
    }
   ],
   "source": [
    "filas = []\n",
    "cant_experimentos = len(archivos)*CANT_REPETIONES_EXPERIMENTOS\n",
    "cant_terminados = 0\n",
    "barra= \"/\" \n",
    "for i in range((len(archivos))): \n",
    "    promedio = 0\n",
    "    promedio_impacto=0 \n",
    "    \n",
    "    for j in range(CANT_REPETIONES_EXPERIMENTOS):\n",
    "        prueba_resultados = correr_experimento(\"M2\", archivos[i],run[i])\n",
    "        lista = [(len(prueba_resultados) -2),prueba_resultados[1], prueba_resultados[0]]\n",
    "        promedio+= lista[2]\n",
    "        promedio_impacto+= lista[1]\n",
    "        cant_terminados+=1\n",
    "        clear_output(wait=True)\n",
    "        display('Experimento: ' + str(cant_terminados) + \"/\" + str(cant_experimentos))\n",
    "    \n",
    "    lista[2] = promedio/CANT_REPETIONES_EXPERIMENTOS\n",
    "    lista[2] = promedio_impacto/CANT_REPETIONES_EXPERIMENTOS\n",
    "    filas.append(lista)\n",
    "    pd.DataFrame(filas, columns=parametros).to_csv(\"resultados/Experimento3/M2H1.csv\", index=False, header=True)           \n"
   ]
  },
  {
   "cell_type": "markdown",
   "metadata": {},
   "source": [
    "## metaheuristica 1"
   ]
  },
  {
   "cell_type": "markdown",
   "metadata": {},
   "source": [
    "corrido con h1:"
   ]
  },
  {
   "cell_type": "code",
   "execution_count": 22,
   "metadata": {},
   "outputs": [
    {
     "data": {
      "text/plain": [
       "'Experimento: 84/260'"
      ]
     },
     "metadata": {},
     "output_type": "display_data"
    },
    {
     "ename": "KeyboardInterrupt",
     "evalue": "",
     "output_type": "error",
     "traceback": [
      "\u001b[0;31m---------------------------------------------------------------------------\u001b[0m",
      "\u001b[0;31mKeyboardInterrupt\u001b[0m                         Traceback (most recent call last)",
      "\u001b[0;32m<ipython-input-22-14f579bbfb3e>\u001b[0m in \u001b[0;36m<module>\u001b[0;34m()\u001b[0m\n\u001b[1;32m      8\u001b[0m \u001b[0;34m\u001b[0m\u001b[0m\n\u001b[1;32m      9\u001b[0m     \u001b[0;32mfor\u001b[0m \u001b[0mj\u001b[0m \u001b[0;32min\u001b[0m \u001b[0mrange\u001b[0m\u001b[0;34m(\u001b[0m\u001b[0mCANT_REPETIONES_EXPERIMENTOS\u001b[0m\u001b[0;34m)\u001b[0m\u001b[0;34m:\u001b[0m\u001b[0;34m\u001b[0m\u001b[0;34m\u001b[0m\u001b[0m\n\u001b[0;32m---> 10\u001b[0;31m         \u001b[0mprueba_resultados\u001b[0m \u001b[0;34m=\u001b[0m \u001b[0mcorrer_experimento\u001b[0m\u001b[0;34m(\u001b[0m\u001b[0;34m\"M1SC\"\u001b[0m\u001b[0;34m,\u001b[0m \u001b[0marchivos\u001b[0m\u001b[0;34m[\u001b[0m\u001b[0mi\u001b[0m\u001b[0;34m]\u001b[0m\u001b[0;34m,\u001b[0m\u001b[0mrun\u001b[0m\u001b[0;34m[\u001b[0m\u001b[0mi\u001b[0m\u001b[0;34m]\u001b[0m\u001b[0;34m)\u001b[0m\u001b[0;34m\u001b[0m\u001b[0;34m\u001b[0m\u001b[0m\n\u001b[0m\u001b[1;32m     11\u001b[0m         \u001b[0mlista\u001b[0m \u001b[0;34m=\u001b[0m \u001b[0;34m[\u001b[0m\u001b[0;34m(\u001b[0m\u001b[0mlen\u001b[0m\u001b[0;34m(\u001b[0m\u001b[0mprueba_resultados\u001b[0m\u001b[0;34m)\u001b[0m \u001b[0;34m-\u001b[0m\u001b[0;36m2\u001b[0m\u001b[0;34m)\u001b[0m\u001b[0;34m,\u001b[0m\u001b[0mprueba_resultados\u001b[0m\u001b[0;34m[\u001b[0m\u001b[0;36m1\u001b[0m\u001b[0;34m]\u001b[0m\u001b[0;34m,\u001b[0m \u001b[0mprueba_resultados\u001b[0m\u001b[0;34m[\u001b[0m\u001b[0;36m0\u001b[0m\u001b[0;34m]\u001b[0m\u001b[0;34m]\u001b[0m\u001b[0;34m\u001b[0m\u001b[0;34m\u001b[0m\u001b[0m\n\u001b[1;32m     12\u001b[0m         \u001b[0mpromedio\u001b[0m\u001b[0;34m+=\u001b[0m \u001b[0mlista\u001b[0m\u001b[0;34m[\u001b[0m\u001b[0;36m2\u001b[0m\u001b[0;34m]\u001b[0m\u001b[0;34m\u001b[0m\u001b[0;34m\u001b[0m\u001b[0m\n",
      "\u001b[0;32m<ipython-input-18-73d29330af33>\u001b[0m in \u001b[0;36mcorrer_experimento\u001b[0;34m(metodo, archivo_instancia, cantNodos)\u001b[0m\n\u001b[1;32m     17\u001b[0m \u001b[0;34m\u001b[0m\u001b[0m\n\u001b[1;32m     18\u001b[0m     \u001b[0;31m# Correr experimento.\u001b[0m\u001b[0;34m\u001b[0m\u001b[0;34m\u001b[0m\u001b[0;34m\u001b[0m\u001b[0m\n\u001b[0;32m---> 19\u001b[0;31m     \u001b[0mexit_code\u001b[0m \u001b[0;34m=\u001b[0m \u001b[0mprocess\u001b[0m\u001b[0;34m.\u001b[0m\u001b[0mwait\u001b[0m\u001b[0;34m(\u001b[0m\u001b[0;34m)\u001b[0m\u001b[0;34m\u001b[0m\u001b[0;34m\u001b[0m\u001b[0m\n\u001b[0m\u001b[1;32m     20\u001b[0m \u001b[0;34m\u001b[0m\u001b[0m\n\u001b[1;32m     21\u001b[0m     \u001b[0;31m# Verificar que el proceso no fallo.\u001b[0m\u001b[0;34m\u001b[0m\u001b[0;34m\u001b[0m\u001b[0;34m\u001b[0m\u001b[0m\n",
      "\u001b[0;32m/usr/lib/python3.6/subprocess.py\u001b[0m in \u001b[0;36mwait\u001b[0;34m(self, timeout, endtime)\u001b[0m\n\u001b[1;32m   1475\u001b[0m                         \u001b[0;32mif\u001b[0m \u001b[0mself\u001b[0m\u001b[0;34m.\u001b[0m\u001b[0mreturncode\u001b[0m \u001b[0;32mis\u001b[0m \u001b[0;32mnot\u001b[0m \u001b[0;32mNone\u001b[0m\u001b[0;34m:\u001b[0m\u001b[0;34m\u001b[0m\u001b[0;34m\u001b[0m\u001b[0m\n\u001b[1;32m   1476\u001b[0m                             \u001b[0;32mbreak\u001b[0m  \u001b[0;31m# Another thread waited.\u001b[0m\u001b[0;34m\u001b[0m\u001b[0;34m\u001b[0m\u001b[0m\n\u001b[0;32m-> 1477\u001b[0;31m                         \u001b[0;34m(\u001b[0m\u001b[0mpid\u001b[0m\u001b[0;34m,\u001b[0m \u001b[0msts\u001b[0m\u001b[0;34m)\u001b[0m \u001b[0;34m=\u001b[0m \u001b[0mself\u001b[0m\u001b[0;34m.\u001b[0m\u001b[0m_try_wait\u001b[0m\u001b[0;34m(\u001b[0m\u001b[0;36m0\u001b[0m\u001b[0;34m)\u001b[0m\u001b[0;34m\u001b[0m\u001b[0;34m\u001b[0m\u001b[0m\n\u001b[0m\u001b[1;32m   1478\u001b[0m                         \u001b[0;31m# Check the pid and loop as waitpid has been known to\u001b[0m\u001b[0;34m\u001b[0m\u001b[0;34m\u001b[0m\u001b[0;34m\u001b[0m\u001b[0m\n\u001b[1;32m   1479\u001b[0m                         \u001b[0;31m# return 0 even without WNOHANG in odd situations.\u001b[0m\u001b[0;34m\u001b[0m\u001b[0;34m\u001b[0m\u001b[0;34m\u001b[0m\u001b[0m\n",
      "\u001b[0;32m/usr/lib/python3.6/subprocess.py\u001b[0m in \u001b[0;36m_try_wait\u001b[0;34m(self, wait_flags)\u001b[0m\n\u001b[1;32m   1422\u001b[0m             \u001b[0;34m\"\"\"All callers to this function MUST hold self._waitpid_lock.\"\"\"\u001b[0m\u001b[0;34m\u001b[0m\u001b[0;34m\u001b[0m\u001b[0m\n\u001b[1;32m   1423\u001b[0m             \u001b[0;32mtry\u001b[0m\u001b[0;34m:\u001b[0m\u001b[0;34m\u001b[0m\u001b[0;34m\u001b[0m\u001b[0m\n\u001b[0;32m-> 1424\u001b[0;31m                 \u001b[0;34m(\u001b[0m\u001b[0mpid\u001b[0m\u001b[0;34m,\u001b[0m \u001b[0msts\u001b[0m\u001b[0;34m)\u001b[0m \u001b[0;34m=\u001b[0m \u001b[0mos\u001b[0m\u001b[0;34m.\u001b[0m\u001b[0mwaitpid\u001b[0m\u001b[0;34m(\u001b[0m\u001b[0mself\u001b[0m\u001b[0;34m.\u001b[0m\u001b[0mpid\u001b[0m\u001b[0;34m,\u001b[0m \u001b[0mwait_flags\u001b[0m\u001b[0;34m)\u001b[0m\u001b[0;34m\u001b[0m\u001b[0;34m\u001b[0m\u001b[0m\n\u001b[0m\u001b[1;32m   1425\u001b[0m             \u001b[0;32mexcept\u001b[0m \u001b[0mChildProcessError\u001b[0m\u001b[0;34m:\u001b[0m\u001b[0;34m\u001b[0m\u001b[0;34m\u001b[0m\u001b[0m\n\u001b[1;32m   1426\u001b[0m                 \u001b[0;31m# This happens if SIGCLD is set to be ignored or waiting\u001b[0m\u001b[0;34m\u001b[0m\u001b[0;34m\u001b[0m\u001b[0;34m\u001b[0m\u001b[0m\n",
      "\u001b[0;31mKeyboardInterrupt\u001b[0m: "
     ]
    }
   ],
   "source": [
    "filas = []\n",
    "cant_experimentos = len(archivos)*CANT_REPETIONES_EXPERIMENTOS\n",
    "cant_terminados = 0\n",
    "barra= \"/\" \n",
    "for i in range((len(archivos))): \n",
    "    promedio = 0\n",
    "    promedio_impacto=0 \n",
    "    \n",
    "    for j in range(CANT_REPETIONES_EXPERIMENTOS):\n",
    "        prueba_resultados = correr_experimento(\"M1SC\", archivos[i],run[i])\n",
    "        lista = [(len(prueba_resultados) -2),prueba_resultados[1], prueba_resultados[0]]\n",
    "        promedio+= lista[2]\n",
    "        promedio_impacto+= lista[1]\n",
    "        cant_terminados+=1\n",
    "        clear_output(wait=True)\n",
    "        display('Experimento: ' + str(cant_terminados) + \"/\" + str(cant_experimentos))\n",
    "    \n",
    "    lista[2] = promedio/CANT_REPETIONES_EXPERIMENTOS\n",
    "    lista[2] = promedio_impacto/CANT_REPETIONES_EXPERIMENTOS\n",
    "    filas.append(lista)\n",
    "    pd.DataFrame(filas, columns=parametros).to_csv(\"resultados/Experimento3/M1H1.csv\", index=False, header=True)           \n"
   ]
  },
  {
   "cell_type": "markdown",
   "metadata": {},
   "source": [
    "## Heuristica 2"
   ]
  },
  {
   "cell_type": "code",
   "execution_count": 34,
   "metadata": {},
   "outputs": [
    {
     "data": {
      "text/plain": [
       "'Experimento: 260/260'"
      ]
     },
     "metadata": {},
     "output_type": "display_data"
    }
   ],
   "source": [
    "filas = []\n",
    "cant_experimentos = len(archivos)*CANT_REPETIONES_EXPERIMENTOS\n",
    "cant_terminados = 0\n",
    "barra= \"/\" \n",
    "for i in range((len(archivos))): \n",
    "    promedio = 0\n",
    "    promedio_impacto=0 \n",
    "    \n",
    "    for j in range(CANT_REPETIONES_EXPERIMENTOS):\n",
    "        prueba_resultados = correr_experimento(\"M1SCH2\", archivos[i],run[i])\n",
    "        lista = [(len(prueba_resultados) -2),prueba_resultados[1], prueba_resultados[0]]\n",
    "        promedio+= lista[2]\n",
    "        promedio_impacto+= lista[1]\n",
    "        cant_terminados+=1\n",
    "        clear_output(wait=True)\n",
    "        display('Experimento: ' + str(cant_terminados) + \"/\" + str(cant_experimentos))\n",
    "    \n",
    "    lista[2] = promedio/CANT_REPETIONES_EXPERIMENTOS\n",
    "    lista[2] = promedio_impacto/CANT_REPETIONES_EXPERIMENTOS\n",
    "    filas.append(lista)\n",
    "    pd.DataFrame(filas, columns=parametros).to_csv(\"resultados/Experimento3/M1H2.csv\", index=False, header=True)           \n"
   ]
  },
  {
   "cell_type": "code",
   "execution_count": null,
   "metadata": {},
   "outputs": [],
   "source": []
  }
 ],
 "metadata": {
  "kernelspec": {
   "display_name": "Python 3",
   "language": "python",
   "name": "python3"
  },
  "language_info": {
   "codemirror_mode": {
    "name": "ipython",
    "version": 3
   },
   "file_extension": ".py",
   "mimetype": "text/x-python",
   "name": "python",
   "nbconvert_exporter": "python",
   "pygments_lexer": "ipython3",
   "version": "3.6.9"
  }
 },
 "nbformat": 4,
 "nbformat_minor": 2
}
