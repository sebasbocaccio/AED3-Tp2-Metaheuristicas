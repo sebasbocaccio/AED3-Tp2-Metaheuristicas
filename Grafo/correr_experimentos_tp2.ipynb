{
 "cells": [
  {
   "cell_type": "code",
   "execution_count": 1,
   "metadata": {},
   "outputs": [],
   "source": [
    "\n",
    "import math, subprocess\n",
    "import pandas as pd\n",
    "import numpy as np\n",
    "from IPython.display import display, clear_output\n",
    "import seaborn as sns"
   ]
  },
  {
   "cell_type": "code",
   "execution_count": 2,
   "metadata": {},
   "outputs": [
    {
     "name": "stdout",
     "output_type": "stream",
     "text": [
      "rm -rf *.o\r\n",
      "rm main\r\n",
      "g++ -o main main.cpp solucion.cpp -O2 -std=c++14\r\n"
     ]
    }
   ],
   "source": [
    "!make clean && make all"
   ]
  },
  {
   "cell_type": "code",
   "execution_count": 3,
   "metadata": {},
   "outputs": [],
   "source": [
    "def leer_instancia(path_instancia):\n",
    "    with open(path_instancia, \"r\") as f:\n",
    "        return f.read();"
   ]
  },
  {
   "cell_type": "code",
   "execution_count": 4,
   "metadata": {},
   "outputs": [],
   "source": [
    "def save_instance(dataset, instance_name, N, impacto, tiempo):\n",
    "    with open(F\"resultados/{dataset}/{instance_name}.txt\", \"w\") as f:\n",
    "        lista = [N,impacto,tiempo]\n",
    "        for i in range(len(lista)):\n",
    "            print(lista[i], file=f, sep=' ', end =' ')"
   ]
  },
  {
   "cell_type": "code",
   "execution_count": 5,
   "metadata": {},
   "outputs": [],
   "source": [
    "save_instance(\"Experimento1\", \"a\", 1,0,1);\n",
    "save_instance(\"Experimento1\", \"a\", 2,0,1);"
   ]
  },
  {
   "cell_type": "code",
   "execution_count": 6,
   "metadata": {},
   "outputs": [],
   "source": [
    "CANT_REPETIONES_EXPERIMENTOS = 20"
   ]
  },
  {
   "cell_type": "code",
   "execution_count": 7,
   "metadata": {},
   "outputs": [],
   "source": [
    "def correr_experimento(metodo, archivo_instancia, cantNodos):\n",
    "    \n",
    "    # Leer archivo de la instancia.\n",
    "    instancia = leer_instancia(archivo_instancia)\n",
    "    \n",
    "    \n",
    "    # Crear proceso para ejecutar el codigo.\n",
    "    process = subprocess.Popen([\"./main\", metodo], stderr=subprocess.PIPE, stdout=subprocess.PIPE, stdin=subprocess.PIPE, universal_newlines = True)\n",
    "    \n",
    "    \n",
    "    # Poner la instancia en la entrada estandar.\n",
    "    process.stdin.write(instancia)\n",
    "    process.stdin.write(\"\\n\")\n",
    "    process.stdin.flush()\n",
    "   \n",
    "    #print(instancia)\n",
    "    \n",
    "    # Correr experimento.\n",
    "    exit_code = process.wait()\n",
    "\n",
    "    # Verificar que el proceso no fallo.\n",
    "    if exit_code != 0: raise ValueError(F\"Hubo un error en la experimentacion para el algoritmo: {metodo} con la instancia {archivo_instancia}.\")\n",
    "    # Leer salida de STDERR con los tiempos de ejecucion de cada metodo.\n",
    "    resultados = []\n",
    "    tiempo = float(process.stderr.read())\n",
    "    resultados.append(tiempo)\n",
    "    \n",
    "    resultado = process.stdout.read();    \n",
    "    resultado = resultado.split()\n",
    "    resultado = map(int, resultado)\n",
    "    resultado = list(resultado)\n",
    "  \n",
    "    resultados += resultado \n",
    "    \n",
    "    \n",
    "    process.stdin.close();\n",
    "    process.stdout.close();\n",
    "    process.stderr.close();\n",
    "    \n",
    "    return resultados;"
   ]
  },
  {
   "cell_type": "code",
   "execution_count": 16,
   "metadata": {},
   "outputs": [],
   "source": [
    "archivos= []\n",
    "run = []\n",
    "for i in range(31):\n",
    "    if ( (i > 5) & (i % 2 == 0)):\n",
    "        archivos.append(f\"instancias/CMI_n{i}.in\")\n",
    "        run.append(i)\n",
    "            "
   ]
  },
  {
   "cell_type": "code",
   "execution_count": 9,
   "metadata": {
    "scrolled": false
   },
   "outputs": [
    {
     "name": "stdout",
     "output_type": "stream",
     "text": [
      "[3.11371, 1, 2, 0, 0, 0, 2, 1]\n",
      "[5.27287, 6, 0, 1, 1, 0, 0, 0, 1, 2]\n",
      "[1056.3, 3, 0, 1, 1, 2, 1, 3, 1, 3, 0, 0]\n",
      "[9.49223, 16, 0, 0, 0, 2, 1, 1, 1, 2, 0, 0, 0, 1]\n",
      "[25.1435, 12, 2, 0, 0, 2, 3, 1, 0, 1, 0, 2, 3, 1, 2, 0]\n",
      "[2420.78, 16, 3, 0, 0, 2, 0, 2, 2, 2, 0, 0, 3, 1, 3, 1, 0, 1]\n",
      "[39.6143, 20, 0, 1, 0, 0, 2, 2, 1, 3, 1, 0, 2, 3, 1, 2, 0, 0, 0, 2]\n",
      "[59.5963, 19, 3, 2, 3, 4, 1, 0, 0, 2, 4, 0, 2, 1, 4, 5, 1, 0, 2, 2, 3, 1]\n",
      "[82.3481, 25, 0, 0, 0, 5, 4, 1, 0, 0, 3, 1, 0, 3, 2, 0, 0, 0, 3, 4, 1, 2, 4, 1]\n",
      "[99.1018, 24, 4, 4, 0, 0, 2, 0, 0, 4, 2, 0, 5, 2, 3, 3, 2, 0, 1, 3, 1, 3, 1, 1, 2, 1]\n",
      "[122.921, 35, 2, 1, 4, 3, 3, 0, 1, 3, 1, 0, 2, 1, 3, 3, 2, 0, 0, 1, 2, 2, 0, 1, 0, 0, 4, 2]\n",
      "[127.782, 43, 3, 1, 4, 1, 4, 0, 2, 0, 0, 1, 4, 2, 2, 1, 1, 0, 1, 4, 0, 2, 3, 1, 2, 0, 3, 0, 0, 3]\n",
      "[194.752, 41, 2, 2, 4, 0, 3, 0, 2, 4, 4, 2, 3, 0, 0, 3, 0, 0, 0, 1, 3, 3, 5, 2, 2, 0, 1, 2, 3, 3, 1, 1]\n"
     ]
    }
   ],
   "source": [
    "\n",
    "for i in range(len(archivos)):\n",
    "    print(correr_experimento(\"M2\", archivos[i],run[i]))"
   ]
  },
  {
   "cell_type": "markdown",
   "metadata": {},
   "source": [
    "# parametros"
   ]
  },
  {
   "cell_type": "code",
   "execution_count": 10,
   "metadata": {},
   "outputs": [],
   "source": [
    "parametros = [\"N\", \"Impacto\", \"Tiempo\"]\n"
   ]
  },
  {
   "cell_type": "markdown",
   "metadata": {},
   "source": [
    "# Experimento 1: Comparacion de heuristicas \n"
   ]
  },
  {
   "cell_type": "markdown",
   "metadata": {},
   "source": [
    "## Heuristica 1"
   ]
  },
  {
   "cell_type": "code",
   "execution_count": 11,
   "metadata": {},
   "outputs": [],
   "source": [
    "\n",
    "parametros = [\"N\", \"Impacto\", \"Tiempo\"]\n",
    "filas = []\n",
    "for i in range((len(archivos))): \n",
    "    promedio = 0\n",
    "    for j in range(CANT_REPETIONES_EXPERIMENTOS):\n",
    "        prueba_resultados = correr_experimento(\"H1\", archivos[i],run[i])\n",
    "        lista = [(len(prueba_resultados) -2),prueba_resultados[1], prueba_resultados[0]]\n",
    "        promedio+= lista[2]\n",
    "        \n",
    "    lista[2] = promedio/CANT_REPETIONES_EXPERIMENTOS\n",
    "    filas.append(lista)\n",
    "    pd.DataFrame(filas, columns=parametros).to_csv(\"resultados/Experimento1/h1.csv\", index=False, header=True)           \n",
    "    \n"
   ]
  },
  {
   "cell_type": "markdown",
   "metadata": {},
   "source": [
    "## Heuristica 2"
   ]
  },
  {
   "cell_type": "code",
   "execution_count": 12,
   "metadata": {},
   "outputs": [],
   "source": [
    "\n",
    "filas = []\n",
    "for i in range((len(archivos))): \n",
    "    promedio = 0\n",
    "    for j in range(CANT_REPETIONES_EXPERIMENTOS):\n",
    "        prueba_resultados = correr_experimento(\"H2\", archivos[i],run[i])\n",
    "        lista = [(len(prueba_resultados) -2),prueba_resultados[1], prueba_resultados[0]]\n",
    "        promedio+= lista[2]\n",
    "        \n",
    "    lista[2] = promedio/CANT_REPETIONES_EXPERIMENTOS\n",
    "    filas.append(lista)\n",
    "    pd.DataFrame(filas, columns=parametros).to_csv(\"resultados/Experimento1/h2.csv\", index=False, header=True)           \n",
    "    \n"
   ]
  },
  {
   "cell_type": "markdown",
   "metadata": {},
   "source": [
    "## Aca se crea el csv de los resultados de la catedra"
   ]
  },
  {
   "cell_type": "code",
   "execution_count": 13,
   "metadata": {},
   "outputs": [
    {
     "name": "stdout",
     "output_type": "stream",
     "text": [
      "1 \n",
      "6 \n",
      "3 \n",
      "16\n",
      "12\n",
      "20\n",
      "27\n",
      "25\n",
      "26\n",
      "33\n",
      "38\n",
      "48\n",
      "47\n"
     ]
    }
   ],
   "source": [
    "parametros_sin_tiempo = [\"N\", \"Impacto\"]\n",
    "archivos_catedra= []\n",
    "run = []\n",
    "filas = []\n",
    "for i in range(31):\n",
    "    if ( (i > 5) & (i % 2 == 0)):\n",
    "        with open(f\"instancias/CMI_n{i}.out\") as f:\n",
    "            c = f.read(2)\n",
    "            print(c)\n",
    "            lista = [i,c]\n",
    "            filas.append(lista)\n",
    "\n",
    "pd.DataFrame(filas, columns=parametros_sin_tiempo).to_csv(\"resultados/best_results.csv\", index=False, header=True)   "
   ]
  },
  {
   "cell_type": "markdown",
   "metadata": {},
   "source": [
    "# Experimento 3 "
   ]
  },
  {
   "cell_type": "markdown",
   "metadata": {},
   "source": [
    "## Metaheuristica M2"
   ]
  },
  {
   "cell_type": "markdown",
   "metadata": {},
   "source": [
    "### Corrido con H2"
   ]
  },
  {
   "cell_type": "code",
   "execution_count": 17,
   "metadata": {},
   "outputs": [
    {
     "data": {
      "text/plain": [
       "'Experimento: 260/260'"
      ]
     },
     "metadata": {},
     "output_type": "display_data"
    }
   ],
   "source": [
    "filas = []\n",
    "cant_experimentos = len(archivos)*CANT_REPETIONES_EXPERIMENTOS\n",
    "cant_terminados = 0\n",
    "barra= \"/\" \n",
    "for i in range((len(archivos))): \n",
    "    promedio = 0\n",
    "    promedio_impacto=0 \n",
    "    \n",
    "    for j in range(CANT_REPETIONES_EXPERIMENTOS):\n",
    "        prueba_resultados = correr_experimento(\"M2\", archivos[i],run[i])\n",
    "        lista = [(len(prueba_resultados) -2),prueba_resultados[1], prueba_resultados[0]]\n",
    "        promedio+= lista[2]\n",
    "        promedio_impacto+= lista[1]\n",
    "        cant_terminados+=1\n",
    "        clear_output(wait=True)\n",
    "        display('Experimento: ' + str(cant_terminados) + \"/\" + str(cant_experimentos))\n",
    "    \n",
    "    lista[2] = promedio/CANT_REPETIONES_EXPERIMENTOS\n",
    "    lista[2] = promedio_impacto/CANT_REPETIONES_EXPERIMENTOS\n",
    "    filas.append(lista)\n",
    "    pd.DataFrame(filas, columns=parametros).to_csv(\"resultados/Experimento3/M2H2.csv\", index=False, header=True)           \n"
   ]
  },
  {
   "cell_type": "markdown",
   "metadata": {},
   "source": [
    "### Corrido con H1"
   ]
  },
  {
   "cell_type": "markdown",
   "metadata": {},
   "source": []
  },
  {
   "cell_type": "code",
   "execution_count": 18,
   "metadata": {},
   "outputs": [
    {
     "data": {
      "text/plain": [
       "'Experimento: 260/260'"
      ]
     },
     "metadata": {},
     "output_type": "display_data"
    }
   ],
   "source": [
    "filas = []\n",
    "cant_experimentos = len(archivos)*CANT_REPETIONES_EXPERIMENTOS\n",
    "cant_terminados = 0\n",
    "barra= \"/\" \n",
    "for i in range((len(archivos))): \n",
    "    promedio = 0\n",
    "    promedio_impacto=0 \n",
    "    \n",
    "    for j in range(CANT_REPETIONES_EXPERIMENTOS):\n",
    "        prueba_resultados = correr_experimento(\"M2\", archivos[i],run[i])\n",
    "        lista = [(len(prueba_resultados) -2),prueba_resultados[1], prueba_resultados[0]]\n",
    "        promedio+= lista[2]\n",
    "        promedio_impacto+= lista[1]\n",
    "        cant_terminados+=1\n",
    "        clear_output(wait=True)\n",
    "        display('Experimento: ' + str(cant_terminados) + \"/\" + str(cant_experimentos))\n",
    "    \n",
    "    lista[2] = promedio/CANT_REPETIONES_EXPERIMENTOS\n",
    "    lista[2] = promedio_impacto/CANT_REPETIONES_EXPERIMENTOS\n",
    "    filas.append(lista)\n",
    "    pd.DataFrame(filas, columns=parametros).to_csv(\"resultados/Experimento3/M2H1.csv\", index=False, header=True)           \n"
   ]
  },
  {
   "cell_type": "markdown",
   "metadata": {},
   "source": [
    "## metaheuristica 1"
   ]
  },
  {
   "cell_type": "markdown",
   "metadata": {},
   "source": [
    "corrido con h1:"
   ]
  },
  {
   "cell_type": "code",
   "execution_count": 19,
   "metadata": {},
   "outputs": [
    {
     "data": {
      "text/plain": [
       "'Experimento: 260/260'"
      ]
     },
     "metadata": {},
     "output_type": "display_data"
    }
   ],
   "source": [
    "filas = []\n",
    "cant_experimentos = len(archivos)*CANT_REPETIONES_EXPERIMENTOS\n",
    "cant_terminados = 0\n",
    "barra= \"/\" \n",
    "for i in range((len(archivos))): \n",
    "    promedio = 0\n",
    "    promedio_impacto=0 \n",
    "    \n",
    "    for j in range(CANT_REPETIONES_EXPERIMENTOS):\n",
    "        prueba_resultados = correr_experimento(\"M1SC\", archivos[i],run[i])\n",
    "        lista = [(len(prueba_resultados) -2),prueba_resultados[1], prueba_resultados[0]]\n",
    "        promedio+= lista[2]\n",
    "        promedio_impacto+= lista[1]\n",
    "        cant_terminados+=1\n",
    "        clear_output(wait=True)\n",
    "        display('Experimento: ' + str(cant_terminados) + \"/\" + str(cant_experimentos))\n",
    "    \n",
    "    lista[2] = promedio/CANT_REPETIONES_EXPERIMENTOS\n",
    "    lista[2] = promedio_impacto/CANT_REPETIONES_EXPERIMENTOS\n",
    "    filas.append(lista)\n",
    "    pd.DataFrame(filas, columns=parametros).to_csv(\"resultados/Experimento3/M1H1.csv\", index=False, header=True)           \n"
   ]
  },
  {
   "cell_type": "markdown",
   "metadata": {},
   "source": [
    "## Heuristica 2"
   ]
  },
  {
   "cell_type": "code",
   "execution_count": 20,
   "metadata": {},
   "outputs": [
    {
     "data": {
      "text/plain": [
       "'Experimento: 260/260'"
      ]
     },
     "metadata": {},
     "output_type": "display_data"
    }
   ],
   "source": [
    "filas = []\n",
    "cant_experimentos = len(archivos)*CANT_REPETIONES_EXPERIMENTOS\n",
    "cant_terminados = 0\n",
    "barra= \"/\" \n",
    "for i in range((len(archivos))): \n",
    "    promedio = 0\n",
    "    promedio_impacto=0 \n",
    "    \n",
    "    for j in range(CANT_REPETIONES_EXPERIMENTOS):\n",
    "        prueba_resultados = correr_experimento(\"M1SCH2\", archivos[i],run[i])\n",
    "        lista = [(len(prueba_resultados) -2),prueba_resultados[1], prueba_resultados[0]]\n",
    "        promedio+= lista[2]\n",
    "        promedio_impacto+= lista[1]\n",
    "        cant_terminados+=1\n",
    "        clear_output(wait=True)\n",
    "        display('Experimento: ' + str(cant_terminados) + \"/\" + str(cant_experimentos))\n",
    "    \n",
    "    lista[2] = promedio/CANT_REPETIONES_EXPERIMENTOS\n",
    "    lista[2] = promedio_impacto/CANT_REPETIONES_EXPERIMENTOS\n",
    "    filas.append(lista)\n",
    "    pd.DataFrame(filas, columns=parametros).to_csv(\"resultados/Experimento3/M1H2.csv\", index=False, header=True)           \n"
   ]
  },
  {
   "cell_type": "code",
   "execution_count": null,
   "metadata": {},
   "outputs": [],
   "source": []
  },
  {
   "cell_type": "code",
   "execution_count": null,
   "metadata": {},
   "outputs": [],
   "source": []
  },
  {
   "cell_type": "code",
   "execution_count": null,
   "metadata": {},
   "outputs": [],
   "source": []
  },
  {
   "cell_type": "code",
   "execution_count": null,
   "metadata": {},
   "outputs": [],
   "source": []
  }
 ],
 "metadata": {
  "kernelspec": {
   "display_name": "Python 3",
   "language": "python",
   "name": "python3"
  },
  "language_info": {
   "codemirror_mode": {
    "name": "ipython",
    "version": 3
   },
   "file_extension": ".py",
   "mimetype": "text/x-python",
   "name": "python",
   "nbconvert_exporter": "python",
   "pygments_lexer": "ipython3",
   "version": "3.8.3"
  }
 },
 "nbformat": 4,
 "nbformat_minor": 2
}
