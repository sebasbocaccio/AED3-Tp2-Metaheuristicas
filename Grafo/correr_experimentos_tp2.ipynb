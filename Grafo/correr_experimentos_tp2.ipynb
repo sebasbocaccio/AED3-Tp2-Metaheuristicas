{
 "cells": [
  {
   "cell_type": "code",
   "execution_count": 1,
   "metadata": {},
   "outputs": [],
   "source": [
    "\n",
    "import math, subprocess\n",
    "import pandas as pd\n",
    "import numpy as np\n",
    "from IPython.display import display, clear_output\n",
    "import seaborn as sns"
   ]
  },
  {
   "cell_type": "code",
   "execution_count": 2,
   "metadata": {},
   "outputs": [
    {
     "output_type": "stream",
     "name": "stdout",
     "text": [
      "rm -rf *.o\nrm main\ng++ -o main main.cpp solucion.cpp -O2 -std=c++14\n"
     ]
    }
   ],
   "source": [
    "!make clean && make all"
   ]
  },
  {
   "cell_type": "code",
   "execution_count": 3,
   "metadata": {},
   "outputs": [],
   "source": [
    "def leer_instancia(path_instancia):\n",
    "    with open(path_instancia, \"r\") as f:\n",
    "        return f.read();"
   ]
  },
  {
   "cell_type": "code",
   "execution_count": 4,
   "metadata": {},
   "outputs": [],
   "source": [
    "def save_instance(dataset, instance_name, N, impacto, tiempo):\n",
    "    with open(F\"resultados/{dataset}/{instance_name}.txt\", \"w\") as f:\n",
    "        lista = [N,impacto,tiempo]\n",
    "        for i in range(len(lista)):\n",
    "            print(lista[i], file=f, sep=' ', end =' ')"
   ]
  },
  {
   "cell_type": "code",
   "execution_count": 5,
   "metadata": {},
   "outputs": [],
   "source": [
    "save_instance(\"Experimento1\", \"a\", 1,0,1);\n",
    "save_instance(\"Experimento1\", \"a\", 2,0,1);"
   ]
  },
  {
   "cell_type": "code",
   "execution_count": 6,
   "metadata": {},
   "outputs": [],
   "source": [
    "CANT_REPETIONES_EXPERIMENTOS = 20"
   ]
  },
  {
   "cell_type": "code",
   "execution_count": 7,
   "metadata": {},
   "outputs": [],
   "source": [
    "def correr_experimento(metodo, archivo_instancia, cantNodos):\n",
    "    \n",
    "    # Leer archivo de la instancia.\n",
    "    instancia = leer_instancia(archivo_instancia)\n",
    "    \n",
    "    \n",
    "    # Crear proceso para ejecutar el codigo.\n",
    "    process = subprocess.Popen([\"./main\", metodo], stderr=subprocess.PIPE, stdout=subprocess.PIPE, stdin=subprocess.PIPE, universal_newlines = True)\n",
    "    \n",
    "    \n",
    "    # Poner la instancia en la entrada estandar.\n",
    "    process.stdin.write(instancia)\n",
    "    process.stdin.write(\"\\n\")\n",
    "    process.stdin.flush()\n",
    "   \n",
    "    #print(instancia)\n",
    "    \n",
    "    # Correr experimento.\n",
    "    exit_code = process.wait()\n",
    "\n",
    "    # Verificar que el proceso no fallo.\n",
    "    if exit_code != 0: raise ValueError(F\"Hubo un error en la experimentacion para el algoritmo: {metodo} con la instancia {archivo_instancia}.\")\n",
    "    # Leer salida de STDERR con los tiempos de ejecucion de cada metodo.\n",
    "    resultados = []\n",
    "    tiempo = float(process.stderr.read())\n",
    "    resultados.append(tiempo)\n",
    "    \n",
    "    resultado = process.stdout.read();    \n",
    "    resultado = resultado.split()\n",
    "    resultado = map(int, resultado)\n",
    "    resultado = list(resultado)\n",
    "  \n",
    "    resultados += resultado \n",
    "    \n",
    "    \n",
    "    process.stdin.close();\n",
    "    process.stdout.close();\n",
    "    process.stderr.close();\n",
    "    \n",
    "    return resultados;"
   ]
  },
  {
   "cell_type": "code",
   "execution_count": 8,
   "metadata": {},
   "outputs": [],
   "source": [
    "archivos= []\n",
    "run = []\n",
    "for i in range(31):\n",
    "    if ( (i > 5) & (i % 2 == 0)):\n",
    "        archivos.append(f\"instancias/CMI_n{i}.in\")\n",
    "        run.append(i)\n",
    "            "
   ]
  },
  {
   "cell_type": "code",
   "execution_count": 24,
   "metadata": {
    "scrolled": false
   },
   "outputs": [
    {
     "output_type": "error",
     "ename": "TypeError",
     "evalue": "correr_experimento() missing 2 required positional arguments: 'porcentajeVecindad' and 'iteracionesSinSol'",
     "traceback": [
      "\u001b[0;31m---------------------------------------------------------------------------\u001b[0m",
      "\u001b[0;31mTypeError\u001b[0m                                 Traceback (most recent call last)",
      "\u001b[0;32m<ipython-input-24-d0e9317ecaf9>\u001b[0m in \u001b[0;36m<module>\u001b[0;34m\u001b[0m\n\u001b[1;32m      1\u001b[0m \u001b[0;32mfor\u001b[0m \u001b[0mi\u001b[0m \u001b[0;32min\u001b[0m \u001b[0mrange\u001b[0m\u001b[0;34m(\u001b[0m\u001b[0mlen\u001b[0m\u001b[0;34m(\u001b[0m\u001b[0marchivos\u001b[0m\u001b[0;34m)\u001b[0m\u001b[0;34m)\u001b[0m\u001b[0;34m:\u001b[0m\u001b[0;34m\u001b[0m\u001b[0;34m\u001b[0m\u001b[0m\n\u001b[0;32m----> 2\u001b[0;31m     \u001b[0mprint\u001b[0m\u001b[0;34m(\u001b[0m\u001b[0mcorrer_experimento\u001b[0m\u001b[0;34m(\u001b[0m\u001b[0;34m\"M2\"\u001b[0m\u001b[0;34m,\u001b[0m \u001b[0marchivos\u001b[0m\u001b[0;34m[\u001b[0m\u001b[0mi\u001b[0m\u001b[0;34m]\u001b[0m\u001b[0;34m,\u001b[0m\u001b[0mrun\u001b[0m\u001b[0;34m[\u001b[0m\u001b[0mi\u001b[0m\u001b[0;34m]\u001b[0m\u001b[0;34m)\u001b[0m\u001b[0;34m)\u001b[0m\u001b[0;34m\u001b[0m\u001b[0;34m\u001b[0m\u001b[0m\n\u001b[0m",
      "\u001b[0;31mTypeError\u001b[0m: correr_experimento() missing 2 required positional arguments: 'porcentajeVecindad' and 'iteracionesSinSol'"
     ]
    }
   ],
   "source": [
    "\n",
    "for i in range(len(archivos)):\n",
    "    print(correr_experimento(\"M2\", archivos[i],run[i]))"
   ]
  },
  {
   "cell_type": "markdown",
   "metadata": {},
   "source": [
    "# parametros"
   ]
  },
  {
   "cell_type": "code",
   "execution_count": 17,
   "metadata": {},
   "outputs": [],
   "source": [
    "parametros = [\"N\", \"Impacto\", \"Tiempo\"]\n"
   ]
  },
  {
   "cell_type": "markdown",
   "metadata": {},
   "source": [
    "# Experimento 1: Comparacion de heuristicas \n"
   ]
  },
  {
   "cell_type": "markdown",
   "metadata": {},
   "source": [
    "## Heuristica 1"
   ]
  },
  {
   "cell_type": "code",
   "execution_count": 11,
   "metadata": {},
   "outputs": [],
   "source": [
    "\n",
    "parametros = [\"N\", \"Impacto\", \"Tiempo\"]\n",
    "filas = []\n",
    "for i in range((len(archivos))): \n",
    "    promedio = 0\n",
    "    for j in range(CANT_REPETIONES_EXPERIMENTOS):\n",
    "        prueba_resultados = correr_experimento(\"H1\", archivos[i],run[i])\n",
    "        lista = [(len(prueba_resultados) -2),prueba_resultados[1], prueba_resultados[0]]\n",
    "        promedio+= lista[2]\n",
    "        \n",
    "    lista[2] = promedio/CANT_REPETIONES_EXPERIMENTOS\n",
    "    filas.append(lista)\n",
    "    pd.DataFrame(filas, columns=parametros).to_csv(\"resultados/Experimento1/h1.csv\", index=False, header=True)           \n",
    "    \n"
   ]
  },
  {
   "cell_type": "markdown",
   "metadata": {},
   "source": [
    "## Heuristica 2"
   ]
  },
  {
   "cell_type": "code",
   "execution_count": 12,
   "metadata": {},
   "outputs": [],
   "source": [
    "\n",
    "filas = []\n",
    "for i in range((len(archivos))): \n",
    "    promedio = 0\n",
    "    for j in range(CANT_REPETIONES_EXPERIMENTOS):\n",
    "        prueba_resultados = correr_experimento(\"H2\", archivos[i],run[i])\n",
    "        lista = [(len(prueba_resultados) -2),prueba_resultados[1], prueba_resultados[0]]\n",
    "        promedio+= lista[2]\n",
    "        \n",
    "    lista[2] = promedio/CANT_REPETIONES_EXPERIMENTOS\n",
    "    filas.append(lista)\n",
    "    pd.DataFrame(filas, columns=parametros).to_csv(\"resultados/Experimento1/h2.csv\", index=False, header=True)           \n",
    "    \n"
   ]
  },
  {
   "cell_type": "markdown",
   "metadata": {},
   "source": [
    "## Aca se crea el csv de los resultados de la catedra"
   ]
  },
  {
   "cell_type": "code",
   "execution_count": 13,
   "metadata": {},
   "outputs": [
    {
     "name": "stdout",
     "output_type": "stream",
     "text": [
      "1 \n",
      "6 \n",
      "3 \n",
      "16\n",
      "12\n",
      "20\n",
      "27\n",
      "25\n",
      "26\n",
      "33\n",
      "38\n",
      "48\n",
      "47\n"
     ]
    }
   ],
   "source": [
    "parametros_sin_tiempo = [\"N\", \"Impacto\"]\n",
    "archivos_catedra= []\n",
    "run = []\n",
    "filas = []\n",
    "for i in range(31):\n",
    "    if ( (i > 5) & (i % 2 == 0)):\n",
    "        with open(f\"instancias/CMI_n{i}.out\") as f:\n",
    "            c = f.read(2)\n",
    "            print(c)\n",
    "            lista = [i,c]\n",
    "            filas.append(lista)\n",
    "\n",
    "pd.DataFrame(filas, columns=parametros_sin_tiempo).to_csv(\"resultados/best_results.csv\", index=False, header=True)   "
   ]
  },
  {
   "cell_type": "markdown",
   "metadata": {},
   "source": [
    "# Experimento 3 "
   ]
  },
  {
   "cell_type": "markdown",
   "metadata": {},
   "source": [
    "## Metaheuristica M2"
   ]
  },
  {
   "cell_type": "markdown",
   "metadata": {},
   "source": [
    "### Corrido con H2"
   ]
  },
  {
   "cell_type": "code",
   "execution_count": 21,
   "metadata": {},
   "outputs": [
    {
     "data": {
      "text/plain": [
       "'Experimento: 260/260'"
      ]
     },
     "metadata": {},
     "output_type": "display_data"
    }
   ],
   "source": [
    "filas = []\n",
    "cant_experimentos = len(archivos)*CANT_REPETIONES_EXPERIMENTOS\n",
    "cant_terminados = 0\n",
    "barra= \"/\" \n",
    "for i in range((len(archivos))): \n",
    "    promedio = 0\n",
    "    promedio_impacto=0 \n",
    "    \n",
    "    for j in range(CANT_REPETIONES_EXPERIMENTOS):\n",
    "        prueba_resultados = correr_experimento(\"M22\", archivos[i],run[i])\n",
    "        lista = [(len(prueba_resultados) -2),prueba_resultados[1], prueba_resultados[0]]\n",
    "        promedio+= lista[2]\n",
    "        promedio_impacto+= lista[1]\n",
    "        cant_terminados+=1\n",
    "        clear_output(wait=True)\n",
    "        display('Experimento: ' + str(cant_terminados) + \"/\" + str(cant_experimentos))\n",
    "    \n",
    "    lista[2] = promedio/CANT_REPETIONES_EXPERIMENTOS\n",
    "    lista[1] = promedio_impacto/CANT_REPETIONES_EXPERIMENTOS\n",
    "    filas.append(lista)\n",
    "    pd.DataFrame(filas, columns=parametros).to_csv(\"resultados/Experimento3/M2H2.csv\", index=False, header=True)           \n"
   ]
  },
  {
   "cell_type": "markdown",
   "metadata": {},
   "source": [
    "### Corrido con H1"
   ]
  },
  {
   "cell_type": "markdown",
   "metadata": {},
   "source": []
  },
  {
   "cell_type": "code",
   "execution_count": 18,
   "metadata": {},
   "outputs": [
    {
     "data": {
      "text/plain": [
       "'Experimento: 260/260'"
      ]
     },
     "metadata": {},
     "output_type": "display_data"
    }
   ],
   "source": [
    "filas = []\n",
    "cant_experimentos = len(archivos)*CANT_REPETIONES_EXPERIMENTOS\n",
    "cant_terminados = 0\n",
    "barra= \"/\" \n",
    "for i in range((len(archivos))): \n",
    "    promedio = 0\n",
    "    promedio_impacto=0 \n",
    "    \n",
    "    for j in range(CANT_REPETIONES_EXPERIMENTOS):\n",
    "        prueba_resultados = correr_experimento(\"M21\", archivos[i],run[i])\n",
    "        lista = [(len(prueba_resultados) -2),prueba_resultados[1], prueba_resultados[0]]\n",
    "        promedio+= lista[2]\n",
    "        promedio_impacto+= lista[1]\n",
    "        cant_terminados+=1\n",
    "        clear_output(wait=True)\n",
    "        display('Experimento: ' + str(cant_terminados) + \"/\" + str(cant_experimentos))\n",
    "    \n",
    "    lista[2] = promedio/CANT_REPETIONES_EXPERIMENTOS\n",
    "    lista[1] = promedio_impacto/CANT_REPETIONES_EXPERIMENTOS\n",
    "    filas.append(lista)\n",
    "    pd.DataFrame(filas, columns=parametros).to_csv(\"resultados/Experimento3/M2H1.csv\", index=False, header=True)           \n"
   ]
  },
  {
   "cell_type": "markdown",
   "metadata": {},
   "source": [
    "## metaheuristica 1"
   ]
  },
  {
   "cell_type": "markdown",
   "metadata": {},
   "source": [
    "corrido con h1:"
   ]
  },
  {
   "cell_type": "code",
   "execution_count": 19,
   "metadata": {},
   "outputs": [
    {
     "data": {
      "text/plain": [
       "'Experimento: 260/260'"
      ]
     },
     "metadata": {},
     "output_type": "display_data"
    }
   ],
   "source": [
    "filas = []\n",
    "cant_experimentos = len(archivos)*CANT_REPETIONES_EXPERIMENTOS\n",
    "cant_terminados = 0\n",
    "barra= \"/\" \n",
    "for i in range((len(archivos))): \n",
    "    promedio = 0\n",
    "    promedio_impacto=0 \n",
    "    \n",
    "    for j in range(CANT_REPETIONES_EXPERIMENTOS):\n",
    "        prueba_resultados = correr_experimento(\"M1SC\", archivos[i],run[i])\n",
    "        lista = [(len(prueba_resultados) -2),prueba_resultados[1], prueba_resultados[0]]\n",
    "        promedio+= lista[2]\n",
    "        promedio_impacto+= lista[1]\n",
    "        cant_terminados+=1\n",
    "        clear_output(wait=True)\n",
    "        display('Experimento: ' + str(cant_terminados) + \"/\" + str(cant_experimentos))\n",
    "    \n",
    "    lista[2] = promedio/CANT_REPETIONES_EXPERIMENTOS\n",
    "    lista[1] = promedio_impacto/CANT_REPETIONES_EXPERIMENTOS\n",
    "    filas.append(lista)\n",
    "    pd.DataFrame(filas, columns=parametros).to_csv(\"resultados/Experimento3/M1H1.csv\", index=False, header=True)           \n"
   ]
  },
  {
   "cell_type": "markdown",
   "metadata": {},
   "source": [
    "## Heuristica 2"
   ]
  },
  {
   "cell_type": "code",
   "execution_count": 20,
   "metadata": {},
   "outputs": [
    {
     "data": {
      "text/plain": [
       "'Experimento: 260/260'"
      ]
     },
     "metadata": {},
     "output_type": "display_data"
    }
   ],
   "source": [
    "filas = []\n",
    "cant_experimentos = len(archivos)*CANT_REPETIONES_EXPERIMENTOS\n",
    "cant_terminados = 0\n",
    "barra= \"/\" \n",
    "for i in range((len(archivos))): \n",
    "    promedio = 0\n",
    "    promedio_impacto=0 \n",
    "    \n",
    "    for j in range(CANT_REPETIONES_EXPERIMENTOS):\n",
    "        prueba_resultados = correr_experimento(\"M1SCH2\", archivos[i],run[i])\n",
    "        lista = [(len(prueba_resultados) -2),prueba_resultados[1], prueba_resultados[0]]\n",
    "        promedio+= lista[2]\n",
    "        promedio_impacto+= lista[1]\n",
    "        cant_terminados+=1\n",
    "        clear_output(wait=True)\n",
    "        display('Experimento: ' + str(cant_terminados) + \"/\" + str(cant_experimentos))\n",
    "    \n",
    "    lista[2] = promedio/CANT_REPETIONES_EXPERIMENTOS\n",
    "    lista[1] = promedio_impacto/CANT_REPETIONES_EXPERIMENTOS\n",
    "    filas.append(lista)\n",
    "    pd.DataFrame(filas, columns=parametros).to_csv(\"resultados/Experimento3/M1H2.csv\", index=False, header=True)           \n"
   ]
  },
  {
   "cell_type": "markdown",
   "metadata": {},
   "source": [
    "# experimento 4, jugando con las metaheuristicas"
   ]
  },
  {
   "cell_type": "code",
   "execution_count": 9,
   "metadata": {},
   "outputs": [],
   "source": [
    "def correr_experimento(metodo, archivo_instancia, cantNodos, porcentajeVecindad, iteracionesSinSol):\n",
    "    \n",
    "    # Leer archivo de la instancia.\n",
    "    instancia = leer_instancia(archivo_instancia)\n",
    "    \n",
    "    \n",
    "    # Crear proceso para ejecutar el codigo.\n",
    "    process = subprocess.Popen([\"./main\", metodo, porcentajeVecindad, iteracionesSinSol], stderr=subprocess.PIPE, stdout=subprocess.PIPE, stdin=subprocess.PIPE, universal_newlines = True)\n",
    "    \n",
    "    \n",
    "    # Poner la instancia en la entrada estandar.\n",
    "    process.stdin.write(instancia)\n",
    "    process.stdin.write(\"\\n\")\n",
    "    process.stdin.flush()\n",
    "   \n",
    "    #print(instancia)\n",
    "    \n",
    "    # Correr experimento.\n",
    "    exit_code = process.wait()\n",
    "\n",
    "    # Verificar que el proceso no fallo.\n",
    "    if exit_code != 0: raise ValueError(F\"Hubo un error en la experimentacion para el algoritmo: {metodo} con la instancia {archivo_instancia}.\")\n",
    "    # Leer salida de STDERR con los tiempos de ejecucion de cada metodo.\n",
    "    resultados = []\n",
    "    tiempo = float(process.stderr.read())\n",
    "    resultados.append(tiempo)\n",
    "    \n",
    "    resultado = process.stdout.read();    \n",
    "    resultado = resultado.split()\n",
    "    resultado = map(int, resultado)\n",
    "    resultado = list(resultado)\n",
    "  \n",
    "    resultados += resultado \n",
    "    # print(resultados)\n",
    "    \n",
    "    process.stdin.close();\n",
    "    process.stdout.close();\n",
    "    process.stderr.close();\n",
    "    \n",
    "    return resultados;"
   ]
  },
  {
   "cell_type": "code",
   "execution_count": 10,
   "metadata": {},
   "outputs": [],
   "source": [
    "parametros = [\"N\", \"Impacto\", \"Tiempo\", \"porcentajeVecindad\", \"cantItSinMejoras\"]\n"
   ]
  },
  {
   "cell_type": "markdown",
   "metadata": {},
   "source": [
    "## Metaheuristica M2"
   ]
  },
  {
   "cell_type": "markdown",
   "metadata": {},
   "source": [
    "### Corrido con H2"
   ]
  },
  {
   "cell_type": "code",
   "execution_count": 11,
   "metadata": {},
   "outputs": [],
   "source": [
    "filas = []\n",
    "cant_experimentos = 4 * (10000/500 - 1) * 8 * 20\n",
    "cant_terminados = 0\n",
    "barra= \"/\" \n",
    "instancia = [1, 5, 9, 12]\n",
    "porcentajeVecinos = []\n",
    "listaIteracionesSinMejoras = []\n",
    "lista = []\n",
    "for i in range(500, 10000, 500):\n",
    "    listaIteracionesSinMejoras.append(i)\n",
    "\n",
    "t = 0.1\n",
    "for i in range(8):\n",
    "    porcentajeVecinos.append(t)\n",
    "    t += 0.1"
   ]
  },
  {
   "cell_type": "code",
   "execution_count": 12,
   "metadata": {},
   "outputs": [
    {
     "output_type": "display_data",
     "data": {
      "text/plain": "'Experimento: 12160/12160.0'"
     },
     "metadata": {}
    }
   ],
   "source": [
    " for i in range(len(instancia)):\n",
    "    for k in range(len(porcentajeVecinos)):\n",
    "        for t in range(len(listaIteracionesSinMejoras)):\n",
    "            promedio = 0\n",
    "            promedio_impacto=0\n",
    "            for j in range(CANT_REPETIONES_EXPERIMENTOS):\n",
    "                prueba_resultados = correr_experimento(\"M22\", archivos[i], run[i], f\"{porcentajeVecinos[k]}\", f\"{listaIteracionesSinMejoras[t]}\")\n",
    "                lista = [(len(prueba_resultados) -2),prueba_resultados[1], prueba_resultados[0], porcentajeVecinos[k], listaIteracionesSinMejoras[t]]\n",
    "                promedio+= lista[2]\n",
    "                promedio_impacto+= lista[1]\n",
    "                cant_terminados+=1\n",
    "                clear_output(wait=True)\n",
    "                display('Experimento: ' + str(cant_terminados) + \"/\" + str(cant_experimentos))\n",
    "            lista[2] = promedio/CANT_REPETIONES_EXPERIMENTOS\n",
    "            lista[1] = promedio_impacto/CANT_REPETIONES_EXPERIMENTOS\n",
    "            filas.append(lista)\n",
    "            pd.DataFrame(filas, columns=parametros).to_csv(\"resultados/Experimento4/M2.csv\", index=False, header=True)           \n"
   ]
  },
  {
   "cell_type": "markdown",
   "metadata": {},
   "source": [
    "## metaheuristica 1"
   ]
  },
  {
   "cell_type": "markdown",
   "metadata": {},
   "source": [
    "corrido con h1:"
   ]
  },
  {
   "cell_type": "code",
   "execution_count": 13,
   "metadata": {},
   "outputs": [],
   "source": [
    "filas = []\n",
    "cant_experimentos = 4 * (10000/500 - 1) * 8 * 20\n",
    "cant_terminados = 0\n",
    "barra= \"/\" \n",
    "instancia = [1, 5, 9, 12]\n",
    "porcentajeVecinos = []\n",
    "listaIteracionesSinMejoras = []\n",
    "lista = []\n",
    "CANT_REPETIONES_EXPERIMENTOS = 20\n",
    "for i in range(500, 10000, 500):\n",
    "    listaIteracionesSinMejoras.append(i)\n",
    "\n",
    "t = 0.1\n",
    "for i in range(8):\n",
    "    porcentajeVecinos.append(t)\n",
    "    t += 0.1"
   ]
  },
  {
   "cell_type": "code",
   "execution_count": 14,
   "metadata": {
    "scrolled": true
   },
   "outputs": [
    {
     "output_type": "display_data",
     "data": {
      "text/plain": "'Experimento: 12160/12160.0'"
     },
     "metadata": {}
    }
   ],
   "source": [
    " for i in range(len(instancia)):\n",
    "    for k in range(len(porcentajeVecinos)):\n",
    "        for t in range(len(listaIteracionesSinMejoras)):\n",
    "            promedio = 0\n",
    "            promedio_impacto=0\n",
    "            for j in range(CANT_REPETIONES_EXPERIMENTOS):\n",
    "                prueba_resultados = correr_experimento(\"M1SC\", archivos[instancia[i]], run[i], f\"{porcentajeVecinos[k]}\",f\"{listaIteracionesSinMejoras[t]}\")\n",
    "                lista = [(len(prueba_resultados) -2),prueba_resultados[1], prueba_resultados[0], porcentajeVecinos[k], listaIteracionesSinMejoras[t]]\n",
    "                promedio+= lista[2]\n",
    "                promedio_impacto+= lista[1]\n",
    "                cant_terminados+=1\n",
    "                clear_output(wait=True)\n",
    "                display('Experimento: ' + str(cant_terminados) + \"/\" + str(cant_experimentos))\n",
    "            lista[2] = promedio/CANT_REPETIONES_EXPERIMENTOS\n",
    "            lista[1] = promedio_impacto/CANT_REPETIONES_EXPERIMENTOS\n",
    "            filas.append(lista)\n",
    "\n",
    "pd.DataFrame(filas, columns=parametros).to_csv(\"resultados/Experimento4/M1.csv\", index=False, header=True)           \n"
   ]
  },
  {
   "cell_type": "markdown",
   "metadata": {},
   "source": [
    "### Seteo los paramentros que voy a necesitar para corrrer"
   ]
  },
  {
   "cell_type": "code",
   "execution_count": 15,
   "metadata": {},
   "outputs": [],
   "source": [
    "parametros = [\"N\", \"Impacto\", \"Tiempo\", \"densidadG\", \"densidadH\", \"nombreExperimento\"]"
   ]
  },
  {
   "cell_type": "markdown",
   "metadata": {},
   "source": [
    "### Cargo los nombres de los archivos, la cantidad de nodos y el nombre del experimento\n",
    "\n",
    "notar que el experimento i-esimo se corresponde con el archivo i-esimo y la cantidad de nodos i-esima"
   ]
  },
  {
   "cell_type": "code",
   "execution_count": 23,
   "metadata": {},
   "outputs": [],
   "source": [
    "archivos= []\n",
    "names = ['baja', 'media', 'alta']\n",
    "cantNodos = []\n",
    "nombreExperimento = []\n",
    "densidadG = []\n",
    "densidadH = []\n",
    "run = []\n",
    "for i in range(10, 40+1):\n",
    "    for j in range(len(names)):\n",
    "        for h in range(len(names)):\n",
    "            archivos.append(f\"nuestrasInstancias/G{names[j]}H{names[h]}{i}.txt\")\n",
    "            cantNodos.append(i)\n",
    "            nombreExperimento.append(f'G{names[j]}H{names[h]}')\n",
    "            densidadG.append(f'{names[j]}')\n",
    "            densidadH.append(f'{names[h]}')\n",
    "                    "
   ]
  },
  {
   "cell_type": "code",
   "execution_count": 24,
   "metadata": {},
   "outputs": [],
   "source": [
    "filas = []\n",
    "cant_experimentos = len(cantNodos) * CANT_REPETIONES_EXPERIMENTOS\n",
    "cant_terminados = 0\n",
    "barra= \"/\" \n",
    "lista = []\n",
    "CANT_REPETIONES_EXPERIMENTOS = 10"
   ]
  },
  {
   "cell_type": "code",
   "execution_count": 25,
   "metadata": {},
   "outputs": [
    {
     "output_type": "display_data",
     "data": {
      "text/plain": "'Experimento: 999/2790'"
     },
     "metadata": {}
    },
    {
     "output_type": "error",
     "ename": "FileNotFoundError",
     "evalue": "[Errno 2] No such file or directory: './main'",
     "traceback": [
      "\u001b[0;31m---------------------------------------------------------------------------\u001b[0m",
      "\u001b[0;31mFileNotFoundError\u001b[0m                         Traceback (most recent call last)",
      "\u001b[0;32m<ipython-input-25-7a7e0956241d>\u001b[0m in \u001b[0;36m<module>\u001b[0;34m\u001b[0m\n\u001b[1;32m      3\u001b[0m    \u001b[0mpromedio_impacto\u001b[0m\u001b[0;34m=\u001b[0m\u001b[0;36m0\u001b[0m\u001b[0;34m\u001b[0m\u001b[0;34m\u001b[0m\u001b[0m\n\u001b[1;32m      4\u001b[0m    \u001b[0;32mfor\u001b[0m \u001b[0mj\u001b[0m \u001b[0;32min\u001b[0m \u001b[0mrange\u001b[0m\u001b[0;34m(\u001b[0m\u001b[0mCANT_REPETIONES_EXPERIMENTOS\u001b[0m\u001b[0;34m)\u001b[0m\u001b[0;34m:\u001b[0m\u001b[0;34m\u001b[0m\u001b[0;34m\u001b[0m\u001b[0m\n\u001b[0;32m----> 5\u001b[0;31m        \u001b[0mprueba_resultados\u001b[0m \u001b[0;34m=\u001b[0m \u001b[0mcorrer_experimento\u001b[0m\u001b[0;34m(\u001b[0m\u001b[0;34m\"M1SC\"\u001b[0m\u001b[0;34m,\u001b[0m \u001b[0marchivos\u001b[0m\u001b[0;34m[\u001b[0m\u001b[0mi\u001b[0m\u001b[0;34m]\u001b[0m\u001b[0;34m,\u001b[0m \u001b[0mcantNodos\u001b[0m\u001b[0;34m[\u001b[0m\u001b[0mi\u001b[0m\u001b[0;34m]\u001b[0m\u001b[0;34m,\u001b[0m \u001b[0;34mf\"{0.5}\"\u001b[0m\u001b[0;34m,\u001b[0m \u001b[0;34mf\"{6500}\"\u001b[0m\u001b[0;34m)\u001b[0m\u001b[0;34m\u001b[0m\u001b[0;34m\u001b[0m\u001b[0m\n\u001b[0m\u001b[1;32m      6\u001b[0m        \u001b[0mlista\u001b[0m \u001b[0;34m=\u001b[0m \u001b[0;34m[\u001b[0m\u001b[0mcantNodos\u001b[0m\u001b[0;34m[\u001b[0m\u001b[0mi\u001b[0m\u001b[0;34m]\u001b[0m\u001b[0;34m,\u001b[0m \u001b[0mprueba_resultados\u001b[0m\u001b[0;34m[\u001b[0m\u001b[0;36m1\u001b[0m\u001b[0;34m]\u001b[0m\u001b[0;34m,\u001b[0m \u001b[0mprueba_resultados\u001b[0m\u001b[0;34m[\u001b[0m\u001b[0;36m0\u001b[0m\u001b[0;34m]\u001b[0m\u001b[0;34m,\u001b[0m \u001b[0mdensidadG\u001b[0m\u001b[0;34m[\u001b[0m\u001b[0mi\u001b[0m\u001b[0;34m]\u001b[0m\u001b[0;34m,\u001b[0m \u001b[0mdensidadH\u001b[0m\u001b[0;34m[\u001b[0m\u001b[0mi\u001b[0m\u001b[0;34m]\u001b[0m\u001b[0;34m,\u001b[0m \u001b[0mnombreExperimento\u001b[0m\u001b[0;34m[\u001b[0m\u001b[0mi\u001b[0m\u001b[0;34m]\u001b[0m\u001b[0;34m]\u001b[0m\u001b[0;34m\u001b[0m\u001b[0;34m\u001b[0m\u001b[0m\n\u001b[1;32m      7\u001b[0m        \u001b[0mpromedio\u001b[0m\u001b[0;34m+=\u001b[0m \u001b[0mlista\u001b[0m\u001b[0;34m[\u001b[0m\u001b[0;36m2\u001b[0m\u001b[0;34m]\u001b[0m\u001b[0;34m\u001b[0m\u001b[0;34m\u001b[0m\u001b[0m\n",
      "\u001b[0;32m<ipython-input-9-edb8c22d3b91>\u001b[0m in \u001b[0;36mcorrer_experimento\u001b[0;34m(metodo, archivo_instancia, cantNodos, porcentajeVecindad, iteracionesSinSol)\u001b[0m\n\u001b[1;32m      6\u001b[0m \u001b[0;34m\u001b[0m\u001b[0m\n\u001b[1;32m      7\u001b[0m     \u001b[0;31m# Crear proceso para ejecutar el codigo.\u001b[0m\u001b[0;34m\u001b[0m\u001b[0;34m\u001b[0m\u001b[0;34m\u001b[0m\u001b[0m\n\u001b[0;32m----> 8\u001b[0;31m     \u001b[0mprocess\u001b[0m \u001b[0;34m=\u001b[0m \u001b[0msubprocess\u001b[0m\u001b[0;34m.\u001b[0m\u001b[0mPopen\u001b[0m\u001b[0;34m(\u001b[0m\u001b[0;34m[\u001b[0m\u001b[0;34m\"./main\"\u001b[0m\u001b[0;34m,\u001b[0m \u001b[0mmetodo\u001b[0m\u001b[0;34m,\u001b[0m \u001b[0mporcentajeVecindad\u001b[0m\u001b[0;34m,\u001b[0m \u001b[0miteracionesSinSol\u001b[0m\u001b[0;34m]\u001b[0m\u001b[0;34m,\u001b[0m \u001b[0mstderr\u001b[0m\u001b[0;34m=\u001b[0m\u001b[0msubprocess\u001b[0m\u001b[0;34m.\u001b[0m\u001b[0mPIPE\u001b[0m\u001b[0;34m,\u001b[0m \u001b[0mstdout\u001b[0m\u001b[0;34m=\u001b[0m\u001b[0msubprocess\u001b[0m\u001b[0;34m.\u001b[0m\u001b[0mPIPE\u001b[0m\u001b[0;34m,\u001b[0m \u001b[0mstdin\u001b[0m\u001b[0;34m=\u001b[0m\u001b[0msubprocess\u001b[0m\u001b[0;34m.\u001b[0m\u001b[0mPIPE\u001b[0m\u001b[0;34m,\u001b[0m \u001b[0muniversal_newlines\u001b[0m \u001b[0;34m=\u001b[0m \u001b[0;32mTrue\u001b[0m\u001b[0;34m)\u001b[0m\u001b[0;34m\u001b[0m\u001b[0;34m\u001b[0m\u001b[0m\n\u001b[0m\u001b[1;32m      9\u001b[0m \u001b[0;34m\u001b[0m\u001b[0m\n\u001b[1;32m     10\u001b[0m \u001b[0;34m\u001b[0m\u001b[0m\n",
      "\u001b[0;32m~/anaconda3/lib/python3.8/subprocess.py\u001b[0m in \u001b[0;36m__init__\u001b[0;34m(self, args, bufsize, executable, stdin, stdout, stderr, preexec_fn, close_fds, shell, cwd, env, universal_newlines, startupinfo, creationflags, restore_signals, start_new_session, pass_fds, encoding, errors, text)\u001b[0m\n\u001b[1;32m    852\u001b[0m                             encoding=encoding, errors=errors)\n\u001b[1;32m    853\u001b[0m \u001b[0;34m\u001b[0m\u001b[0m\n\u001b[0;32m--> 854\u001b[0;31m             self._execute_child(args, executable, preexec_fn, close_fds,\n\u001b[0m\u001b[1;32m    855\u001b[0m                                 \u001b[0mpass_fds\u001b[0m\u001b[0;34m,\u001b[0m \u001b[0mcwd\u001b[0m\u001b[0;34m,\u001b[0m \u001b[0menv\u001b[0m\u001b[0;34m,\u001b[0m\u001b[0;34m\u001b[0m\u001b[0;34m\u001b[0m\u001b[0m\n\u001b[1;32m    856\u001b[0m                                 \u001b[0mstartupinfo\u001b[0m\u001b[0;34m,\u001b[0m \u001b[0mcreationflags\u001b[0m\u001b[0;34m,\u001b[0m \u001b[0mshell\u001b[0m\u001b[0;34m,\u001b[0m\u001b[0;34m\u001b[0m\u001b[0;34m\u001b[0m\u001b[0m\n",
      "\u001b[0;32m~/anaconda3/lib/python3.8/subprocess.py\u001b[0m in \u001b[0;36m_execute_child\u001b[0;34m(self, args, executable, preexec_fn, close_fds, pass_fds, cwd, env, startupinfo, creationflags, shell, p2cread, p2cwrite, c2pread, c2pwrite, errread, errwrite, restore_signals, start_new_session)\u001b[0m\n\u001b[1;32m   1700\u001b[0m                     \u001b[0;32mif\u001b[0m \u001b[0merrno_num\u001b[0m \u001b[0;34m!=\u001b[0m \u001b[0;36m0\u001b[0m\u001b[0;34m:\u001b[0m\u001b[0;34m\u001b[0m\u001b[0;34m\u001b[0m\u001b[0m\n\u001b[1;32m   1701\u001b[0m                         \u001b[0merr_msg\u001b[0m \u001b[0;34m=\u001b[0m \u001b[0mos\u001b[0m\u001b[0;34m.\u001b[0m\u001b[0mstrerror\u001b[0m\u001b[0;34m(\u001b[0m\u001b[0merrno_num\u001b[0m\u001b[0;34m)\u001b[0m\u001b[0;34m\u001b[0m\u001b[0;34m\u001b[0m\u001b[0m\n\u001b[0;32m-> 1702\u001b[0;31m                     \u001b[0;32mraise\u001b[0m \u001b[0mchild_exception_type\u001b[0m\u001b[0;34m(\u001b[0m\u001b[0merrno_num\u001b[0m\u001b[0;34m,\u001b[0m \u001b[0merr_msg\u001b[0m\u001b[0;34m,\u001b[0m \u001b[0merr_filename\u001b[0m\u001b[0;34m)\u001b[0m\u001b[0;34m\u001b[0m\u001b[0;34m\u001b[0m\u001b[0m\n\u001b[0m\u001b[1;32m   1703\u001b[0m                 \u001b[0;32mraise\u001b[0m \u001b[0mchild_exception_type\u001b[0m\u001b[0;34m(\u001b[0m\u001b[0merr_msg\u001b[0m\u001b[0;34m)\u001b[0m\u001b[0;34m\u001b[0m\u001b[0;34m\u001b[0m\u001b[0m\n\u001b[1;32m   1704\u001b[0m \u001b[0;34m\u001b[0m\u001b[0m\n",
      "\u001b[0;31mFileNotFoundError\u001b[0m: [Errno 2] No such file or directory: './main'"
     ]
    }
   ],
   "source": [
    " for i in range(len(nombreExperimento)):\n",
    "    promedio = 0\n",
    "    promedio_impacto=0\n",
    "    for j in range(CANT_REPETIONES_EXPERIMENTOS):\n",
    "        prueba_resultados = correr_experimento(\"M1SC\", archivos[i], cantNodos[i], f\"{0.5}\", f\"{6500}\")\n",
    "        lista = [cantNodos[i], prueba_resultados[1], prueba_resultados[0], densidadG[i], densidadH[i], nombreExperimento[i]]\n",
    "        promedio+= lista[2]\n",
    "        promedio_impacto+= lista[1]\n",
    "        cant_terminados+=1\n",
    "        clear_output(wait=True)\n",
    "        display('Experimento: ' + str(cant_terminados) + \"/\" + str(cant_experimentos))\n",
    "    lista[2] = promedio/CANT_REPETIONES_EXPERIMENTOS\n",
    "    lista[1] = promedio_impacto/CANT_REPETIONES_EXPERIMENTOS\n",
    "    filas.append(lista)\n",
    "\n",
    "pd.DataFrame(filas, columns=parametros).to_csv(\"resultados/Experimento5/M1.csv\", index=False, header=True)           \n"
   ]
  },
  {
   "cell_type": "code",
   "execution_count": null,
   "metadata": {},
   "outputs": [],
   "source": []
  }
 ],
 "metadata": {
  "kernelspec": {
   "display_name": "Python 3",
   "language": "python",
   "name": "python3"
  },
  "language_info": {
   "codemirror_mode": {
    "name": "ipython",
    "version": 3
   },
   "file_extension": ".py",
   "mimetype": "text/x-python",
   "name": "python",
   "nbconvert_exporter": "python",
   "pygments_lexer": "ipython3",
   "version": "3.8.3-final"
  }
 },
 "nbformat": 4,
 "nbformat_minor": 2
}