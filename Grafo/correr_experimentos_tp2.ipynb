{
 "cells": [
  {
   "cell_type": "code",
   "execution_count": 1,
   "metadata": {},
   "outputs": [],
   "source": [
    "\n",
    "import math, subprocess\n",
    "import pandas as pd\n",
    "import numpy as np\n",
    "from IPython.display import display, clear_output\n",
    "import seaborn as sns"
   ]
  },
  {
   "cell_type": "code",
   "execution_count": 35,
   "metadata": {},
   "outputs": [
    {
     "name": "stdout",
     "output_type": "stream",
     "text": [
      "rm -rf *.o\r\n",
      "rm main\r\n",
      "g++ -o main main.cpp solucion.cpp -O2 -std=c++14\r\n"
     ]
    }
   ],
   "source": [
    "!make clean && make all"
   ]
  },
  {
   "cell_type": "code",
   "execution_count": 36,
   "metadata": {},
   "outputs": [],
   "source": [
    "def leer_instancia(path_instancia):\n",
    "    with open(path_instancia, \"r\") as f:\n",
    "        return f.read();"
   ]
  },
  {
   "cell_type": "code",
   "execution_count": null,
   "metadata": {},
   "outputs": [],
   "source": []
  },
  {
   "cell_type": "code",
   "execution_count": 44,
   "metadata": {},
   "outputs": [],
   "source": [
    "def correr_experimento(metodo, archivo_instancia, cantNodos):\n",
    "    \n",
    "    # Leer archivo de la instancia.\n",
    "    instancia = leer_instancia(archivo_instancia)\n",
    "    \n",
    "    \n",
    "    # Crear proceso para ejecutar el codigo.\n",
    "    process = subprocess.Popen([\"./main\", metodo], stderr=subprocess.PIPE, stdout=subprocess.PIPE, stdin=subprocess.PIPE, universal_newlines = True)\n",
    "    \n",
    "    \n",
    "    # Poner la instancia en la entrada estandar.\n",
    "    process.stdin.write(instancia)\n",
    "    process.stdin.write(\"\\n\")\n",
    "    process.stdin.flush()\n",
    "   \n",
    "    #print(instancia)\n",
    "    \n",
    "    # Correr experimento.\n",
    "    exit_code = process.wait()\n",
    "\n",
    "    # Verificar que el proceso no fallo.\n",
    "    if exit_code != 0: raise(F\"Hubo un error en la experimentacion para el algoritmo: {algoritmo} con la instancia {archivo_instancia}.\")\n",
    "    # Leer salida de STDERR con los tiempos de ejecucion de cada metodo.\n",
    "    resultados = []\n",
    "    tiempo = float(process.stderr.read())\n",
    "    resultados.append(tiempo)\n",
    "    \n",
    "    resultado = process.stdout.read();    \n",
    "    resultado = resultado.split()\n",
    "    resultado = map(int, resultado)\n",
    "    resultado = list(resultado)\n",
    "  \n",
    "    resultados += resultado \n",
    "    \n",
    "    \n",
    "    process.stdin.close();\n",
    "    process.stdout.close();\n",
    "    process.stderr.close();\n",
    "    \n",
    "    return resultados;"
   ]
  },
  {
   "cell_type": "code",
   "execution_count": 66,
   "metadata": {},
   "outputs": [],
   "source": [
    "archivos= []\n",
    "run = []\n",
    "for i in range(30):\n",
    "    if ( (i > 5) & (i % 2 == 0)):\n",
    "        archivos.append(f\"instancias/CMI_n{i}.in\")\n",
    "        run.append(i)\n",
    "            "
   ]
  },
  {
   "cell_type": "code",
   "execution_count": 71,
   "metadata": {
    "scrolled": true
   },
   "outputs": [
    {
     "name": "stdout",
     "output_type": "stream",
     "text": [
      "[0.039018, 1, 0, 5, 1, 5, 2, 4]\n",
      "[0.024191, 6, 7, 6, 6, 7, 7, 7, 6, 2]\n",
      "[0.051745, 3, 9, 6, 8, 4, 8, 0, 6, 1, 2, 9]\n",
      "[0.067338, 12, 11, 11, 8, 8, 9, 9, 9, 2, 11, 11, 11, 8]\n",
      "[0.068256, 11, 10, 13, 13, 4, 0, 8, 13, 11, 13, 10, 8, 11, 10, 13]\n",
      "[0.146225, 13, 14, 15, 13, 3, 14, 14, 11, 11, 15, 15, 14, 11, 1, 13, 15, 13]\n",
      "[0.177075, 17, 17, 7, 17, 17, 12, 12, 12, 15, 15, 17, 8, 4, 7, 8, 17, 15, 15, 12]\n",
      "[0.090111, 17, 12, 17, 4, 7, 18, 19, 19, 17, 7, 19, 17, 12, 7, 0, 18, 19, 17, 17, 18, 18]\n",
      "[0.24626, 15, 21, 21, 18, 0, 3, 13, 16, 21, 9, 20, 21, 18, 2, 20, 21, 16, 9, 16, 13, 20, 18, 18]\n",
      "[0.128422, 21, 10, 2, 23, 23, 19, 23, 7, 10, 19, 23, 22, 19, 20, 12, 20, 23, 20, 17, 22, 17, 22, 22, 19, 20]\n",
      "[0.365502, 28, 20, 17, 1, 18, 19, 25, 24, 18, 24, 25, 18, 24, 19, 19, 20, 25, 25, 17, 20, 20, 25, 24, 25, 25, 6, 20]\n",
      "[0.414769, 36, 17, 25, 22, 25, 5, 27, 27, 27, 27, 25, 5, 22, 16, 25, 25, 27, 25, 0, 16, 17, 18, 25, 18, 27, 22, 22, 22, 17]\n"
     ]
    }
   ],
   "source": [
    "\n",
    "for i in range(len(archivos)):\n",
    "    print(correr_experimento(\"H1\", archivos[i],run[i]))"
   ]
  },
  {
   "cell_type": "code",
   "execution_count": null,
   "metadata": {},
   "outputs": [],
   "source": []
  },
  {
   "cell_type": "code",
   "execution_count": null,
   "metadata": {},
   "outputs": [],
   "source": []
  }
 ],
 "metadata": {
  "kernelspec": {
   "display_name": "Python 3",
   "language": "python",
   "name": "python3"
  },
  "language_info": {
   "codemirror_mode": {
    "name": "ipython",
    "version": 3
   },
   "file_extension": ".py",
   "mimetype": "text/x-python",
   "name": "python",
   "nbconvert_exporter": "python",
   "pygments_lexer": "ipython3",
   "version": "3.6.9"
  }
 },
 "nbformat": 4,
 "nbformat_minor": 2
}
