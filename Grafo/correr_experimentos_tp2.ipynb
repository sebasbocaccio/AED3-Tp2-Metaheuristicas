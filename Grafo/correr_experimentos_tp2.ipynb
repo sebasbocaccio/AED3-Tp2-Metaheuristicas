{
 "cells": [
  {
   "cell_type": "code",
   "execution_count": 19,
   "metadata": {},
   "outputs": [],
   "source": [
    "\n",
    "import math, subprocess\n",
    "import pandas as pd\n",
    "import numpy as np\n",
    "from IPython.display import display, clear_output\n",
    "import seaborn as sns"
   ]
  },
  {
   "cell_type": "code",
   "execution_count": 20,
   "metadata": {},
   "outputs": [
    {
     "name": "stdout",
     "output_type": "stream",
     "text": [
      "rm -rf *.o\r\n",
      "rm main\r\n",
      "g++ -o main main.cpp solucion.cpp -O2 -std=c++14\r\n"
     ]
    }
   ],
   "source": [
    "!make clean && make all"
   ]
  },
  {
   "cell_type": "code",
   "execution_count": 21,
   "metadata": {},
   "outputs": [],
   "source": [
    "def leer_instancia(path_instancia):\n",
    "    with open(path_instancia, \"r\") as f:\n",
    "        return f.read();"
   ]
  },
  {
   "cell_type": "code",
   "execution_count": 22,
   "metadata": {},
   "outputs": [],
   "source": [
    "def save_instance(dataset, instance_name, N, impacto, tiempo):\n",
    "    with open(F\"resultados/{dataset}/{instance_name}.txt\", \"w\") as f:\n",
    "        lista = [N,impacto,tiempo]\n",
    "        for i in range(len(lista)):\n",
    "            print(lista[i], file=f, sep=' ', end =' ')"
   ]
  },
  {
   "cell_type": "code",
   "execution_count": 23,
   "metadata": {},
   "outputs": [],
   "source": [
    "save_instance(\"Experimento1\", \"a\", 1,0,1);\n",
    "save_instance(\"Experimento1\", \"a\", 2,0,1);"
   ]
  },
  {
   "cell_type": "code",
   "execution_count": 29,
   "metadata": {},
   "outputs": [],
   "source": [
    "CANT_REPETIONES_EXPERIMENTOS = 20"
   ]
  },
  {
   "cell_type": "code",
   "execution_count": 24,
   "metadata": {},
   "outputs": [],
   "source": [
    "def correr_experimento(metodo, archivo_instancia, cantNodos):\n",
    "    \n",
    "    # Leer archivo de la instancia.\n",
    "    instancia = leer_instancia(archivo_instancia)\n",
    "    \n",
    "    \n",
    "    # Crear proceso para ejecutar el codigo.\n",
    "    process = subprocess.Popen([\"./main\", metodo], stderr=subprocess.PIPE, stdout=subprocess.PIPE, stdin=subprocess.PIPE, universal_newlines = True)\n",
    "    \n",
    "    \n",
    "    # Poner la instancia en la entrada estandar.\n",
    "    process.stdin.write(instancia)\n",
    "    process.stdin.write(\"\\n\")\n",
    "    process.stdin.flush()\n",
    "   \n",
    "    #print(instancia)\n",
    "    \n",
    "    # Correr experimento.\n",
    "    exit_code = process.wait()\n",
    "\n",
    "    # Verificar que el proceso no fallo.\n",
    "    if exit_code != 0: raise(F\"Hubo un error en la experimentacion para el algoritmo: {algoritmo} con la instancia {archivo_instancia}.\")\n",
    "    # Leer salida de STDERR con los tiempos de ejecucion de cada metodo.\n",
    "    resultados = []\n",
    "    tiempo = float(process.stderr.read())\n",
    "    resultados.append(tiempo)\n",
    "    \n",
    "    resultado = process.stdout.read();    \n",
    "    resultado = resultado.split()\n",
    "    resultado = map(int, resultado)\n",
    "    resultado = list(resultado)\n",
    "  \n",
    "    resultados += resultado \n",
    "    \n",
    "    \n",
    "    process.stdin.close();\n",
    "    process.stdout.close();\n",
    "    process.stderr.close();\n",
    "    \n",
    "    return resultados;"
   ]
  },
  {
   "cell_type": "code",
   "execution_count": 33,
   "metadata": {},
   "outputs": [],
   "source": [
    "archivos= []\n",
    "run = []\n",
    "for i in range(31):\n",
    "    if ( (i > 5) & (i % 2 == 0)):\n",
    "        archivos.append(f\"instancias/CMI_n{i}.in\")\n",
    "        run.append(i)\n",
    "            "
   ]
  },
  {
   "cell_type": "code",
   "execution_count": 26,
   "metadata": {
    "scrolled": false
   },
   "outputs": [
    {
     "name": "stdout",
     "output_type": "stream",
     "text": [
      "[421.673, 2, 2, 0, 1, 0, 2, 0]\n",
      "[429.747, 6, 0, 1, 1, 0, 0, 0, 1, 2]\n",
      "[1041.49, 4, 1, 0, 1, 2, 1, 3, 0, 3, 0, 1]\n",
      "[687.903, 16, 0, 0, 0, 2, 1, 1, 1, 2, 0, 0, 0, 1]\n",
      "[1369.65, 12, 2, 0, 0, 2, 3, 1, 0, 1, 0, 2, 3, 1, 2, 0]\n",
      "[3497.66, 19, 0, 0, 1, 3, 0, 0, 3, 3, 0, 1, 0, 2, 1, 2, 2, 2]\n",
      "[4977.99, 25, 2, 2, 0, 1, 0, 3, 0, 0, 2, 0, 0, 1, 2, 1, 1, 2, 0, 3]\n",
      "[2518.02, 20, 2, 3, 3, 4, 1, 0, 0, 2, 4, 0, 2, 1, 4, 5, 1, 0, 2, 2, 3, 1]\n",
      "[3616.88, 27, 0, 0, 0, 5, 4, 1, 3, 0, 3, 1, 0, 0, 2, 0, 0, 0, 3, 4, 1, 2, 4, 1]\n",
      "[5050.66, 26, 4, 4, 0, 1, 2, 0, 0, 4, 2, 0, 1, 2, 3, 3, 2, 0, 3, 1, 1, 3, 0, 1, 2, 5]\n",
      "[10177.8, 38, 0, 2, 0, 2, 0, 3, 3, 2, 2, 1, 1, 3, 0, 1, 1, 4, 3, 4, 0, 0, 1, 2, 1, 2, 3, 0]\n",
      "[5762.99, 45, 3, 1, 3, 1, 4, 0, 2, 0, 0, 1, 4, 2, 2, 1, 1, 0, 1, 3, 0, 2, 4, 1, 2, 0, 3, 0, 0, 4]\n"
     ]
    }
   ],
   "source": [
    "\n",
    "for i in range(len(archivos)):\n",
    "    print(correr_experimento(\"M2\", archivos[i],run[i]))"
   ]
  },
  {
   "cell_type": "markdown",
   "metadata": {},
   "source": [
    "# Experimento 1: Comparacion de heuristicas \n"
   ]
  },
  {
   "cell_type": "markdown",
   "metadata": {},
   "source": [
    "## Heuristica 1"
   ]
  },
  {
   "cell_type": "code",
   "execution_count": 36,
   "metadata": {},
   "outputs": [],
   "source": [
    "\n",
    "parametros = [\"N\", \"Impacto\", \"Tiempo\"]\n",
    "filas = []\n",
    "for i in range((len(archivos))): \n",
    "    promedio = 0\n",
    "    for j in range(CANT_REPETIONES_EXPERIMENTOS):\n",
    "        prueba_resultados = correr_experimento(\"H1\", archivos[i],run[i])\n",
    "        lista = [(len(prueba_resultados) -2),prueba_resultados[1], prueba_resultados[0]]\n",
    "        promedio+= lista[2]\n",
    "        \n",
    "    lista[2] = promedio/CANT_REPETIONES_EXPERIMENTOS\n",
    "    filas.append(lista)\n",
    "    pd.DataFrame(filas, columns=parametros).to_csv(\"resultados/Experimento1/h1.csv\", index=False, header=True)           \n",
    "    \n"
   ]
  },
  {
   "cell_type": "markdown",
   "metadata": {},
   "source": [
    "## Heuristica 2"
   ]
  },
  {
   "cell_type": "code",
   "execution_count": 37,
   "metadata": {},
   "outputs": [],
   "source": [
    "\n",
    "filas = []\n",
    "for i in range((len(archivos))): \n",
    "    promedio = 0\n",
    "    for j in range(CANT_REPETIONES_EXPERIMENTOS):\n",
    "        prueba_resultados = correr_experimento(\"H2\", archivos[i],run[i])\n",
    "        lista = [(len(prueba_resultados) -2),prueba_resultados[1], prueba_resultados[0]]\n",
    "        promedio+= lista[2]\n",
    "        \n",
    "    lista[2] = promedio/CANT_REPETIONES_EXPERIMENTOS\n",
    "    filas.append(lista)\n",
    "    pd.DataFrame(filas, columns=parametros).to_csv(\"resultados/Experimento1/h2.csv\", index=False, header=True)           \n",
    "    \n"
   ]
  },
  {
   "cell_type": "code",
   "execution_count": null,
   "metadata": {},
   "outputs": [],
   "source": []
  }
 ],
 "metadata": {
  "kernelspec": {
   "display_name": "Python 3",
   "language": "python",
   "name": "python3"
  },
  "language_info": {
   "codemirror_mode": {
    "name": "ipython",
    "version": 3
   },
   "file_extension": ".py",
   "mimetype": "text/x-python",
   "name": "python",
   "nbconvert_exporter": "python",
   "pygments_lexer": "ipython3",
   "version": "3.7.6"
  }
 },
 "nbformat": 4,
 "nbformat_minor": 2
}
